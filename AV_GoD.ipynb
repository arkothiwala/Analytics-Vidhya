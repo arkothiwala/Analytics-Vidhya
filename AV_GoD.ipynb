{
  "nbformat": 4,
  "nbformat_minor": 0,
  "metadata": {
    "colab": {
      "name": "AV - GoD.ipynb",
      "version": "0.3.2",
      "provenance": [],
      "collapsed_sections": [],
      "toc_visible": true,
      "include_colab_link": true
    },
    "kernelspec": {
      "name": "python3",
      "display_name": "Python 3"
    },
    "accelerator": "GPU"
  },
  "cells": [
    {
      "cell_type": "markdown",
      "metadata": {
        "id": "view-in-github",
        "colab_type": "text"
      },
      "source": [
        "<a href=\"https://colab.research.google.com/github/arkothiwala/Analytics-Vidhya/blob/master/AV_GoD.ipynb\" target=\"_parent\"><img src=\"https://colab.research.google.com/assets/colab-badge.svg\" alt=\"Open In Colab\"/></a>"
      ]
    },
    {
      "cell_type": "markdown",
      "metadata": {
        "id": "8zAJKxZfmYdt",
        "colab_type": "text"
      },
      "source": [
        "# Downloading the dataset\n",
        "\n"
      ]
    },
    {
      "cell_type": "code",
      "metadata": {
        "id": "CGViQ0-yzuZH",
        "colab_type": "code",
        "colab": {}
      },
      "source": [
        "!pip install -U -q PyDrive\n",
        "from pydrive.auth import GoogleAuth\n",
        "from pydrive.drive import GoogleDrive\n",
        "from google.colab import auth\n",
        "from oauth2client.client import GoogleCredentials\n",
        "import torch\n",
        "# Authenticate and create the PyDrive client.\n",
        "# This only needs to be done once per notebook.\n",
        "auth.authenticate_user()\n",
        "gauth = GoogleAuth()\n",
        "gauth.credentials = GoogleCredentials.get_application_default()\n",
        "drive = GoogleDrive(gauth)"
      ],
      "execution_count": 0,
      "outputs": []
    },
    {
      "cell_type": "code",
      "metadata": {
        "id": "4vuC7iFm0yie",
        "colab_type": "code",
        "colab": {}
      },
      "source": [
        "# Download a file based on its file ID.\n",
        "#\n",
        "# A file ID looks like: laggVyWshwcyP6kEI-y_W3P8D26sz\n",
        "file_id = '1zRzgwnzMs52MN674v6TFDOMrKi1jg6dN' #File ID for the required Trainingdata\n",
        "downloaded = drive.CreateFile({'id': file_id})\n",
        "downloaded.GetContentFile('train-ship classification.zip')"
      ],
      "execution_count": 0,
      "outputs": []
    },
    {
      "cell_type": "code",
      "metadata": {
        "id": "yGcvqwpM1fNV",
        "colab_type": "code",
        "colab": {}
      },
      "source": [
        "import zipfile\n",
        "zip_ref = zipfile.ZipFile('train-ship classification.zip', 'r')\n",
        "zip_ref.extractall('data')\n",
        "zip_ref.close()"
      ],
      "execution_count": 0,
      "outputs": []
    },
    {
      "cell_type": "markdown",
      "metadata": {
        "id": "VCeHlHOKmj-h",
        "colab_type": "text"
      },
      "source": [
        "\n",
        "\n",
        "---\n",
        "\n",
        "Downloaded the data and unzipped\n",
        "\n",
        "---\n",
        "\n"
      ]
    },
    {
      "cell_type": "markdown",
      "metadata": {
        "id": "XELV4MWKm41W",
        "colab_type": "text"
      },
      "source": [
        "### Importing libraries and reading the data"
      ]
    },
    {
      "cell_type": "markdown",
      "metadata": {
        "id": "OMd8Gvi4nD4h",
        "colab_type": "text"
      },
      "source": [
        "# Roadmap:\n",
        "\n",
        "\n",
        "1.   Load data\n",
        "\n",
        "\n",
        "> 1.1 Determine missing data<br>\n",
        "> 1.2 Add raw image data column<br>\n",
        "> 1.3 Determine shapes of images<br>\n",
        "\n",
        "\n",
        "2.   Process images\n",
        "\n",
        "\n",
        "\n",
        "> 2.1 add padding<br>\n",
        "> 2.2 add/remove dimentions\n",
        "\n",
        "\n",
        "\n",
        "\n",
        "\n"
      ]
    },
    {
      "cell_type": "markdown",
      "metadata": {
        "id": "ipUwS3lBolkr",
        "colab_type": "text"
      },
      "source": [
        "# 1. Load Data"
      ]
    },
    {
      "cell_type": "code",
      "metadata": {
        "id": "DYH4-SrGt7mo",
        "colab_type": "code",
        "outputId": "472c307e-a511-4e99-b73b-ebeeed91f8c8",
        "colab": {
          "base_uri": "https://localhost:8080/",
          "height": 34
        }
      },
      "source": [
        "# importing libraries\n",
        "import pandas as pd\n",
        "import numpy as np\n",
        "import matplotlib.pyplot as plt\n",
        "import matplotlib.image as mpimg #To plot images\n",
        "import keras\n",
        "import tensorflow as tf"
      ],
      "execution_count": 4,
      "outputs": [
        {
          "output_type": "stream",
          "text": [
            "Using TensorFlow backend.\n"
          ],
          "name": "stderr"
        }
      ]
    },
    {
      "cell_type": "code",
      "metadata": {
        "id": "NaMyDzEePiHk",
        "colab_type": "code",
        "colab": {
          "base_uri": "https://localhost:8080/",
          "height": 34
        },
        "outputId": "07ef3417-c720-4dab-a8f4-8606edba2eb3"
      },
      "source": [
        "tf.test.gpu_device_name()"
      ],
      "execution_count": 5,
      "outputs": [
        {
          "output_type": "execute_result",
          "data": {
            "text/plain": [
              "'/device:GPU:0'"
            ]
          },
          "metadata": {
            "tags": []
          },
          "execution_count": 5
        }
      ]
    },
    {
      "cell_type": "code",
      "metadata": {
        "id": "0T6iP1N1u2FL",
        "colab_type": "code",
        "outputId": "4bf36c6a-b4a4-42a0-e884-665bbcabcc3e",
        "colab": {
          "base_uri": "https://localhost:8080/",
          "height": 195
        }
      },
      "source": [
        "train_csv = pd.read_csv('./data/train.csv')\n",
        "train_csv.head()"
      ],
      "execution_count": 6,
      "outputs": [
        {
          "output_type": "execute_result",
          "data": {
            "text/html": [
              "<div>\n",
              "<style scoped>\n",
              "    .dataframe tbody tr th:only-of-type {\n",
              "        vertical-align: middle;\n",
              "    }\n",
              "\n",
              "    .dataframe tbody tr th {\n",
              "        vertical-align: top;\n",
              "    }\n",
              "\n",
              "    .dataframe thead th {\n",
              "        text-align: right;\n",
              "    }\n",
              "</style>\n",
              "<table border=\"1\" class=\"dataframe\">\n",
              "  <thead>\n",
              "    <tr style=\"text-align: right;\">\n",
              "      <th></th>\n",
              "      <th>image</th>\n",
              "      <th>category</th>\n",
              "    </tr>\n",
              "  </thead>\n",
              "  <tbody>\n",
              "    <tr>\n",
              "      <th>0</th>\n",
              "      <td>2823080.jpg</td>\n",
              "      <td>1</td>\n",
              "    </tr>\n",
              "    <tr>\n",
              "      <th>1</th>\n",
              "      <td>2870024.jpg</td>\n",
              "      <td>1</td>\n",
              "    </tr>\n",
              "    <tr>\n",
              "      <th>2</th>\n",
              "      <td>2662125.jpg</td>\n",
              "      <td>2</td>\n",
              "    </tr>\n",
              "    <tr>\n",
              "      <th>3</th>\n",
              "      <td>2900420.jpg</td>\n",
              "      <td>3</td>\n",
              "    </tr>\n",
              "    <tr>\n",
              "      <th>4</th>\n",
              "      <td>2804883.jpg</td>\n",
              "      <td>2</td>\n",
              "    </tr>\n",
              "  </tbody>\n",
              "</table>\n",
              "</div>"
            ],
            "text/plain": [
              "         image  category\n",
              "0  2823080.jpg         1\n",
              "1  2870024.jpg         1\n",
              "2  2662125.jpg         2\n",
              "3  2900420.jpg         3\n",
              "4  2804883.jpg         2"
            ]
          },
          "metadata": {
            "tags": []
          },
          "execution_count": 6
        }
      ]
    },
    {
      "cell_type": "code",
      "metadata": {
        "id": "Ie14ZvwDyOUx",
        "colab_type": "code",
        "outputId": "3f566680-9eba-4c3b-82c5-5a3d37a27643",
        "colab": {
          "base_uri": "https://localhost:8080/",
          "height": 269
        }
      },
      "source": [
        "# Let's look at the image\n",
        "img=mpimg.imread('./data/images/2823080.jpg')\n",
        "imgplot = plt.imshow(img)"
      ],
      "execution_count": 7,
      "outputs": [
        {
          "output_type": "display_data",
          "data": {
            "image/png": "[encoded data removed]",
            "text/plain": [
              "<Figure size 432x288 with 1 Axes>"
            ]
          },
          "metadata": {
            "tags": []
          }
        }
      ]
    },
    {
      "cell_type": "code",
      "metadata": {
        "id": "4xnFGMCPxwI8",
        "colab_type": "code",
        "outputId": "76318579-c44f-486d-fc67-aa2d651b693f",
        "colab": {
          "base_uri": "https://localhost:8080/",
          "height": 168
        }
      },
      "source": [
        "# Lets us see category column of the data\n",
        "train_csv.category.describe()"
      ],
      "execution_count": 8,
      "outputs": [
        {
          "output_type": "execute_result",
          "data": {
            "text/plain": [
              "count    6252.000000\n",
              "mean        2.657550\n",
              "std         1.528998\n",
              "min         1.000000\n",
              "25%         1.000000\n",
              "50%         2.000000\n",
              "75%         4.000000\n",
              "max         5.000000\n",
              "Name: category, dtype: float64"
            ]
          },
          "metadata": {
            "tags": []
          },
          "execution_count": 8
        }
      ]
    },
    {
      "cell_type": "code",
      "metadata": {
        "id": "R5MrsO1Zx9Xl",
        "colab_type": "code",
        "outputId": "f75df59f-6591-4dfb-c48b-dd19c846aa3c",
        "colab": {
          "base_uri": "https://localhost:8080/",
          "height": 67
        }
      },
      "source": [
        "# Null check\n",
        "train_csv.isnull().sum()"
      ],
      "execution_count": 9,
      "outputs": [
        {
          "output_type": "execute_result",
          "data": {
            "text/plain": [
              "image       0\n",
              "category    0\n",
              "dtype: int64"
            ]
          },
          "metadata": {
            "tags": []
          },
          "execution_count": 9
        }
      ]
    },
    {
      "cell_type": "markdown",
      "metadata": {
        "id": "X4o2sFwyodPf",
        "colab_type": "text"
      },
      "source": [
        "## 1.2 Add raw image data column"
      ]
    },
    {
      "cell_type": "code",
      "metadata": {
        "id": "eL8J9IT_x8XW",
        "colab_type": "code",
        "colab": {}
      },
      "source": [
        "base_url = './data/images/'\n",
        "# Create a column to represent raw image data\n",
        "train_csv['raw'] = [mpimg.imread(base_url+image_url) for image_url in train_csv.image]\n"
      ],
      "execution_count": 0,
      "outputs": []
    },
    {
      "cell_type": "markdown",
      "metadata": {
        "id": "Qs3bwNQ9z38u",
        "colab_type": "text"
      },
      "source": [
        "## 1.3 Image Processing"
      ]
    },
    {
      "cell_type": "markdown",
      "metadata": {
        "id": "lM-Hf19U0CeD",
        "colab_type": "text"
      },
      "source": [
        "\n",
        "\n",
        "*   Some of the images can be of gray scale having just two channels\n",
        "*   Such images needs to be converted to 3 channels (RGB values same as in single channel)\n",
        "\n"
      ]
    },
    {
      "cell_type": "code",
      "metadata": {
        "id": "gGiFZ8uMmLHf",
        "colab_type": "code",
        "colab": {}
      },
      "source": [
        "dim_dict = {}\n",
        "for i in range(len(train_csv)):\n",
        "  dimension = len(train_csv.raw.iloc[i].shape)\n",
        "  if dimension in dim_dict:\n",
        "    dim_dict[dimension] += 1\n",
        "  else:\n",
        "    dim_dict[dimension] = 1"
      ],
      "execution_count": 0,
      "outputs": []
    },
    {
      "cell_type": "code",
      "metadata": {
        "id": "xKR0q3vJpZjy",
        "colab_type": "code",
        "outputId": "18597912-9b8c-4898-dc9f-49f322d68f30",
        "colab": {
          "base_uri": "https://localhost:8080/",
          "height": 34
        }
      },
      "source": [
        "dim_dict"
      ],
      "execution_count": 12,
      "outputs": [
        {
          "output_type": "execute_result",
          "data": {
            "text/plain": [
              "{2: 104, 3: 6148}"
            ]
          },
          "metadata": {
            "tags": []
          },
          "execution_count": 12
        }
      ]
    },
    {
      "cell_type": "markdown",
      "metadata": {
        "id": "g3798RpxqdUC",
        "colab_type": "text"
      },
      "source": [
        "As it can be noticed, some images are having two channels only. Which needs to be converted in to three channels"
      ]
    },
    {
      "cell_type": "code",
      "metadata": {
        "id": "swRpyFjKqbHA",
        "colab_type": "code",
        "outputId": "87cb5e78-79cd-4256-b230-0cfe6fa29754",
        "colab": {
          "base_uri": "https://localhost:8080/",
          "height": 101
        }
      },
      "source": [
        "for i in range(len(train_csv.raw)):\n",
        "  if(len(train_csv.raw.iloc[i].shape)==2):\n",
        "    train_csv.raw.iloc[i] = np.stack((train_csv.raw.iloc[i],)*3, axis=-1)"
      ],
      "execution_count": 13,
      "outputs": [
        {
          "output_type": "stream",
          "text": [
            "/usr/local/lib/python3.6/dist-packages/pandas/core/indexing.py:190: SettingWithCopyWarning: \n",
            "A value is trying to be set on a copy of a slice from a DataFrame\n",
            "\n",
            "See the caveats in the documentation: http://pandas.pydata.org/pandas-docs/stable/indexing.html#indexing-view-versus-copy\n",
            "  self._setitem_with_indexer(indexer, value)\n"
          ],
          "name": "stderr"
        }
      ]
    },
    {
      "cell_type": "markdown",
      "metadata": {
        "id": "OZPfyYnXFK-B",
        "colab_type": "text"
      },
      "source": [
        "### 3.3 Encoding category to One-Hot encoding"
      ]
    },
    {
      "cell_type": "code",
      "metadata": {
        "id": "qpBtOu4u65dH",
        "colab_type": "code",
        "outputId": "784becc5-7ade-4f50-f51a-73f6c12471f3",
        "colab": {
          "base_uri": "https://localhost:8080/",
          "height": 67
        }
      },
      "source": [
        "from sklearn.preprocessing import OneHotEncoder\n",
        "enc = OneHotEncoder(categories='auto')\n",
        "enc.fit(np.array(train_csv.category).reshape(-1,1))"
      ],
      "execution_count": 14,
      "outputs": [
        {
          "output_type": "execute_result",
          "data": {
            "text/plain": [
              "OneHotEncoder(categorical_features=None, categories='auto', drop=None,\n",
              "              dtype=<class 'numpy.float64'>, handle_unknown='error',\n",
              "              n_values=None, sparse=True)"
            ]
          },
          "metadata": {
            "tags": []
          },
          "execution_count": 14
        }
      ]
    },
    {
      "cell_type": "code",
      "metadata": {
        "id": "gga0YFsG49Oy",
        "colab_type": "code",
        "outputId": "f3922118-512b-43aa-a294-9372b51c3a8b",
        "colab": {
          "base_uri": "https://localhost:8080/",
          "height": 118
        }
      },
      "source": [
        "train_csv['encoded_category'] = enc.transform(np.array(train_csv.category).reshape(-1,1)).toarray().tolist()\n",
        "train_csv.encoded_category.head()"
      ],
      "execution_count": 15,
      "outputs": [
        {
          "output_type": "execute_result",
          "data": {
            "text/plain": [
              "0    [1.0, 0.0, 0.0, 0.0, 0.0]\n",
              "1    [1.0, 0.0, 0.0, 0.0, 0.0]\n",
              "2    [0.0, 1.0, 0.0, 0.0, 0.0]\n",
              "3    [0.0, 0.0, 1.0, 0.0, 0.0]\n",
              "4    [0.0, 1.0, 0.0, 0.0, 0.0]\n",
              "Name: encoded_category, dtype: object"
            ]
          },
          "metadata": {
            "tags": []
          },
          "execution_count": 15
        }
      ]
    },
    {
      "cell_type": "markdown",
      "metadata": {
        "id": "uzaw2_frE-m9",
        "colab_type": "text"
      },
      "source": [
        "Now we have encoded category list"
      ]
    },
    {
      "cell_type": "markdown",
      "metadata": {
        "id": "YxuvYnTYFbJ4",
        "colab_type": "text"
      },
      "source": [
        "# 2. Image preprocessing"
      ]
    },
    {
      "cell_type": "markdown",
      "metadata": {
        "id": "Oqkuhee-FeUL",
        "colab_type": "text"
      },
      "source": [
        "Images in the dataset are of different size <br>\n",
        "In order to feed it to the network, we need to make them to the same size <br>\n",
        "Hence, let find out maximum dimensions of the image and pad smaller images with the same"
      ]
    },
    {
      "cell_type": "markdown",
      "metadata": {
        "id": "Flwm24ORFyhP",
        "colab_type": "text"
      },
      "source": [
        "#### Doubt: Should I first do augmentation then padding or viceversa ?"
      ]
    },
    {
      "cell_type": "markdown",
      "metadata": {
        "id": "Qt66PQJfGKvY",
        "colab_type": "text"
      },
      "source": [
        "### Image resizing to max image size:"
      ]
    },
    {
      "cell_type": "code",
      "metadata": {
        "id": "6gNf9Vdc7IO8",
        "colab_type": "code",
        "colab": {}
      },
      "source": [
        "max_width = 0\n",
        "max_height = 0\n",
        "for image in train_csv.raw:\n",
        "  height, width, depth = image.shape\n",
        "  max_width = max(width, max_width)\n",
        "  max_height = max(height, max_height)"
      ],
      "execution_count": 0,
      "outputs": []
    },
    {
      "cell_type": "code",
      "metadata": {
        "id": "YcVAv4SaGky3",
        "colab_type": "code",
        "outputId": "f4a3483d-a262-4e1c-bb4e-4ce806bfef70",
        "colab": {
          "base_uri": "https://localhost:8080/",
          "height": 34
        }
      },
      "source": [
        "max_width"
      ],
      "execution_count": 17,
      "outputs": [
        {
          "output_type": "execute_result",
          "data": {
            "text/plain": [
              "210"
            ]
          },
          "metadata": {
            "tags": []
          },
          "execution_count": 17
        }
      ]
    },
    {
      "cell_type": "code",
      "metadata": {
        "id": "dtngx0wwJfHl",
        "colab_type": "code",
        "outputId": "39fea50e-fe5a-46a3-b7b2-079ab13b539e",
        "colab": {
          "base_uri": "https://localhost:8080/",
          "height": 34
        }
      },
      "source": [
        "max_height"
      ],
      "execution_count": 18,
      "outputs": [
        {
          "output_type": "execute_result",
          "data": {
            "text/plain": [
              "158"
            ]
          },
          "metadata": {
            "tags": []
          },
          "execution_count": 18
        }
      ]
    },
    {
      "cell_type": "code",
      "metadata": {
        "id": "sBHghLpD4OC7",
        "colab_type": "code",
        "colab": {}
      },
      "source": [
        "min_width = 500\n",
        "min_height = 500\n",
        "for image in train_csv.raw:\n",
        "  height, width, depth = image.shape\n",
        "  min_width = min(width, min_width)\n",
        "  min_height = min(height, min_height)"
      ],
      "execution_count": 0,
      "outputs": []
    },
    {
      "cell_type": "code",
      "metadata": {
        "id": "-pG0DoRr4X6n",
        "colab_type": "code",
        "outputId": "d0ef788f-1fb2-4fe4-b02d-3e8420b86fb4",
        "colab": {
          "base_uri": "https://localhost:8080/",
          "height": 34
        }
      },
      "source": [
        "min_width"
      ],
      "execution_count": 20,
      "outputs": [
        {
          "output_type": "execute_result",
          "data": {
            "text/plain": [
              "91"
            ]
          },
          "metadata": {
            "tags": []
          },
          "execution_count": 20
        }
      ]
    },
    {
      "cell_type": "code",
      "metadata": {
        "id": "hJv7iEz_4yo5",
        "colab_type": "code",
        "outputId": "36e18517-a7d9-4df2-ec19-a526d242a28b",
        "colab": {
          "base_uri": "https://localhost:8080/",
          "height": 195
        }
      },
      "source": [
        "#train_csv.head()"
      ],
      "execution_count": 21,
      "outputs": [
        {
          "output_type": "execute_result",
          "data": {
            "text/html": [
              "<div>\n",
              "<style scoped>\n",
              "    .dataframe tbody tr th:only-of-type {\n",
              "        vertical-align: middle;\n",
              "    }\n",
              "\n",
              "    .dataframe tbody tr th {\n",
              "        vertical-align: top;\n",
              "    }\n",
              "\n",
              "    .dataframe thead th {\n",
              "        text-align: right;\n",
              "    }\n",
              "</style>\n",
              "<table border=\"1\" class=\"dataframe\">\n",
              "  <thead>\n",
              "    <tr style=\"text-align: right;\">\n",
              "      <th></th>\n",
              "      <th>image</th>\n",
              "      <th>category</th>\n",
              "      <th>raw</th>\n",
              "      <th>encoded_category</th>\n",
              "    </tr>\n",
              "  </thead>\n",
              "  <tbody>\n",
              "    <tr>\n",
              "      <th>0</th>\n",
              "      <td>2823080.jpg</td>\n",
              "      <td>1</td>\n",
              "      <td>[[[84, 153, 210], [84, 153, 210], [84, 153, 21...</td>\n",
              "      <td>[1.0, 0.0, 0.0, 0.0, 0.0]</td>\n",
              "    </tr>\n",
              "    <tr>\n",
              "      <th>1</th>\n",
              "      <td>2870024.jpg</td>\n",
              "      <td>1</td>\n",
              "      <td>[[[157, 157, 157], [153, 153, 153], [150, 150,...</td>\n",
              "      <td>[1.0, 0.0, 0.0, 0.0, 0.0]</td>\n",
              "    </tr>\n",
              "    <tr>\n",
              "      <th>2</th>\n",
              "      <td>2662125.jpg</td>\n",
              "      <td>2</td>\n",
              "      <td>[[[220, 219, 224], [220, 219, 224], [220, 219,...</td>\n",
              "      <td>[0.0, 1.0, 0.0, 0.0, 0.0]</td>\n",
              "    </tr>\n",
              "    <tr>\n",
              "      <th>3</th>\n",
              "      <td>2900420.jpg</td>\n",
              "      <td>3</td>\n",
              "      <td>[[[118, 140, 151], [136, 158, 169], [119, 143,...</td>\n",
              "      <td>[0.0, 0.0, 1.0, 0.0, 0.0]</td>\n",
              "    </tr>\n",
              "    <tr>\n",
              "      <th>4</th>\n",
              "      <td>2804883.jpg</td>\n",
              "      <td>2</td>\n",
              "      <td>[[[117, 152, 182], [118, 153, 183], [118, 153,...</td>\n",
              "      <td>[0.0, 1.0, 0.0, 0.0, 0.0]</td>\n",
              "    </tr>\n",
              "  </tbody>\n",
              "</table>\n",
              "</div>"
            ],
            "text/plain": [
              "         image  ...           encoded_category\n",
              "0  2823080.jpg  ...  [1.0, 0.0, 0.0, 0.0, 0.0]\n",
              "1  2870024.jpg  ...  [1.0, 0.0, 0.0, 0.0, 0.0]\n",
              "2  2662125.jpg  ...  [0.0, 1.0, 0.0, 0.0, 0.0]\n",
              "3  2900420.jpg  ...  [0.0, 0.0, 1.0, 0.0, 0.0]\n",
              "4  2804883.jpg  ...  [0.0, 1.0, 0.0, 0.0, 0.0]\n",
              "\n",
              "[5 rows x 4 columns]"
            ]
          },
          "metadata": {
            "tags": []
          },
          "execution_count": 21
        }
      ]
    },
    {
      "cell_type": "markdown",
      "metadata": {
        "id": "3NFkWSeGNKYn",
        "colab_type": "text"
      },
      "source": [
        "It shows that 104 images are 2D"
      ]
    },
    {
      "cell_type": "code",
      "metadata": {
        "id": "a_JQFFEgLKTQ",
        "colab_type": "code",
        "colab": {}
      },
      "source": [
        "import cv2\n",
        "# Here we need to take care, as normally we will provide dsize = (height, width) but here it is swapped\n",
        "train_csv['resized_raw'] = [cv2.resize(img, dsize=(max_width, max_height), interpolation=cv2.INTER_CUBIC) for img in train_csv.raw]"
      ],
      "execution_count": 0,
      "outputs": []
    },
    {
      "cell_type": "code",
      "metadata": {
        "id": "e-Afc5_O5G1J",
        "colab_type": "code",
        "outputId": "d6317789-2a96-4e82-bf3c-cdeaf5ff987e",
        "colab": {
          "base_uri": "https://localhost:8080/",
          "height": 195
        }
      },
      "source": [
        "#train_csv.head()"
      ],
      "execution_count": 23,
      "outputs": [
        {
          "output_type": "execute_result",
          "data": {
            "text/html": [
              "<div>\n",
              "<style scoped>\n",
              "    .dataframe tbody tr th:only-of-type {\n",
              "        vertical-align: middle;\n",
              "    }\n",
              "\n",
              "    .dataframe tbody tr th {\n",
              "        vertical-align: top;\n",
              "    }\n",
              "\n",
              "    .dataframe thead th {\n",
              "        text-align: right;\n",
              "    }\n",
              "</style>\n",
              "<table border=\"1\" class=\"dataframe\">\n",
              "  <thead>\n",
              "    <tr style=\"text-align: right;\">\n",
              "      <th></th>\n",
              "      <th>image</th>\n",
              "      <th>category</th>\n",
              "      <th>raw</th>\n",
              "      <th>encoded_category</th>\n",
              "      <th>resized_raw</th>\n",
              "    </tr>\n",
              "  </thead>\n",
              "  <tbody>\n",
              "    <tr>\n",
              "      <th>0</th>\n",
              "      <td>2823080.jpg</td>\n",
              "      <td>1</td>\n",
              "      <td>[[[84, 153, 210], [84, 153, 210], [84, 153, 21...</td>\n",
              "      <td>[1.0, 0.0, 0.0, 0.0, 0.0]</td>\n",
              "      <td>[[[84, 153, 210], [84, 153, 210], [84, 153, 21...</td>\n",
              "    </tr>\n",
              "    <tr>\n",
              "      <th>1</th>\n",
              "      <td>2870024.jpg</td>\n",
              "      <td>1</td>\n",
              "      <td>[[[157, 157, 157], [153, 153, 153], [150, 150,...</td>\n",
              "      <td>[1.0, 0.0, 0.0, 0.0, 0.0]</td>\n",
              "      <td>[[[157, 157, 157], [153, 153, 153], [150, 150,...</td>\n",
              "    </tr>\n",
              "    <tr>\n",
              "      <th>2</th>\n",
              "      <td>2662125.jpg</td>\n",
              "      <td>2</td>\n",
              "      <td>[[[220, 219, 224], [220, 219, 224], [220, 219,...</td>\n",
              "      <td>[0.0, 1.0, 0.0, 0.0, 0.0]</td>\n",
              "      <td>[[[220, 219, 224], [220, 219, 224], [220, 219,...</td>\n",
              "    </tr>\n",
              "    <tr>\n",
              "      <th>3</th>\n",
              "      <td>2900420.jpg</td>\n",
              "      <td>3</td>\n",
              "      <td>[[[118, 140, 151], [136, 158, 169], [119, 143,...</td>\n",
              "      <td>[0.0, 0.0, 1.0, 0.0, 0.0]</td>\n",
              "      <td>[[[117, 139, 150], [138, 160, 171], [122, 146,...</td>\n",
              "    </tr>\n",
              "    <tr>\n",
              "      <th>4</th>\n",
              "      <td>2804883.jpg</td>\n",
              "      <td>2</td>\n",
              "      <td>[[[117, 152, 182], [118, 153, 183], [118, 153,...</td>\n",
              "      <td>[0.0, 1.0, 0.0, 0.0, 0.0]</td>\n",
              "      <td>[[[117, 152, 182], [118, 153, 183], [118, 153,...</td>\n",
              "    </tr>\n",
              "  </tbody>\n",
              "</table>\n",
              "</div>"
            ],
            "text/plain": [
              "         image  ...                                        resized_raw\n",
              "0  2823080.jpg  ...  [[[84, 153, 210], [84, 153, 210], [84, 153, 21...\n",
              "1  2870024.jpg  ...  [[[157, 157, 157], [153, 153, 153], [150, 150,...\n",
              "2  2662125.jpg  ...  [[[220, 219, 224], [220, 219, 224], [220, 219,...\n",
              "3  2900420.jpg  ...  [[[117, 139, 150], [138, 160, 171], [122, 146,...\n",
              "4  2804883.jpg  ...  [[[117, 152, 182], [118, 153, 183], [118, 153,...\n",
              "\n",
              "[5 rows x 5 columns]"
            ]
          },
          "metadata": {
            "tags": []
          },
          "execution_count": 23
        }
      ]
    },
    {
      "cell_type": "code",
      "metadata": {
        "id": "VlvPBFSx5L7n",
        "colab_type": "code",
        "colab": {}
      },
      "source": [
        "min_width = 500\n",
        "min_height = 500\n",
        "for image in train_csv.resized_raw:\n",
        "  height, width, depth = image.shape\n",
        "  min_width = min(width, min_width)\n",
        "  min_height = min(height, min_height)"
      ],
      "execution_count": 0,
      "outputs": []
    },
    {
      "cell_type": "code",
      "metadata": {
        "id": "Ql-Vyk7x5X08",
        "colab_type": "code",
        "colab": {}
      },
      "source": [
        "assert min_height == max_height\n",
        "assert min_width == max_width"
      ],
      "execution_count": 0,
      "outputs": []
    },
    {
      "cell_type": "code",
      "metadata": {
        "id": "BqrJCCob7ERV",
        "colab_type": "code",
        "outputId": "402423f2-a315-401d-bc13-43da009486cc",
        "colab": {
          "base_uri": "https://localhost:8080/",
          "height": 286
        }
      },
      "source": [
        "plt.imshow(train_csv.resized_raw.iloc[0])"
      ],
      "execution_count": 26,
      "outputs": [
        {
          "output_type": "execute_result",
          "data": {
            "text/plain": [
              "<matplotlib.image.AxesImage at 0x7fd3a30d46d8>"
            ]
          },
          "metadata": {
            "tags": []
          },
          "execution_count": 26
        },
        {
          "output_type": "display_data",
          "data": {
            "image/png": "[encoded data removed]",
            "text/plain": [
              "<Figure size 432x288 with 1 Axes>"
            ]
          },
          "metadata": {
            "tags": []
          }
        }
      ]
    },
    {
      "cell_type": "markdown",
      "metadata": {
        "id": "At-6LD2e8ITR",
        "colab_type": "text"
      },
      "source": [
        "Now I have all the images resized to same dimention and have encoded labels as well.<br>\n",
        "Now is the time to build the model"
      ]
    },
    {
      "cell_type": "code",
      "metadata": {
        "id": "SgOj-ZG0QBJs",
        "colab_type": "code",
        "colab": {
          "base_uri": "https://localhost:8080/",
          "height": 34
        },
        "outputId": "d3a61107-07c0-4642-b758-ce93a4b6af83"
      },
      "source": [
        "#del(train_csv['raw'])\n",
        "#del(train_csv['category'])\n",
        "import gc\n",
        "gc.collect()\n",
        "#train_csv.columns"
      ],
      "execution_count": 68,
      "outputs": [
        {
          "output_type": "execute_result",
          "data": {
            "text/plain": [
              "0"
            ]
          },
          "metadata": {
            "tags": []
          },
          "execution_count": 68
        }
      ]
    },
    {
      "cell_type": "code",
      "metadata": {
        "id": "wleuiAsre96T",
        "colab_type": "code",
        "colab": {
          "base_uri": "https://localhost:8080/",
          "height": 272
        },
        "outputId": "4421952a-2fd6-4f6a-bc98-92fbfc8738d9"
      },
      "source": [
        "train_csv.category.value_counts().plot.pie()"
      ],
      "execution_count": 44,
      "outputs": [
        {
          "output_type": "execute_result",
          "data": {
            "text/plain": [
              "<matplotlib.axes._subplots.AxesSubplot at 0x7fd39e234cc0>"
            ]
          },
          "metadata": {
            "tags": []
          },
          "execution_count": 44
        },
        {
          "output_type": "display_data",
          "data": {
            "image/png": "[encoded data removed]",
            "text/plain": [
              "<Figure size 432x288 with 1 Axes>"
            ]
          },
          "metadata": {
            "tags": []
          }
        }
      ]
    },
    {
      "cell_type": "code",
      "metadata": {
        "id": "OWWrr4e4c6RE",
        "colab_type": "code",
        "colab": {
          "base_uri": "https://localhost:8080/",
          "height": 507
        },
        "outputId": "a2dc1fbd-8ba8-4baa-9ffe-aa632b70c164"
      },
      "source": [
        "#train_csv.category.value_counts().plot.pie()\n",
        "def absolute_value(val):\n",
        "    return round(val)\n",
        "plt.pie(train_csv.category.value_counts(),\n",
        "        autopct=absolute_value, shadow=True)"
      ],
      "execution_count": 43,
      "outputs": [
        {
          "output_type": "execute_result",
          "data": {
            "text/plain": [
              "([<matplotlib.patches.Wedge at 0x7fd39e2973c8>,\n",
              "  <matplotlib.patches.Wedge at 0x7fd39e297d68>,\n",
              "  <matplotlib.patches.Wedge at 0x7fd39e29f748>,\n",
              "  <matplotlib.patches.Wedge at 0x7fd39e229128>,\n",
              "  <matplotlib.patches.Wedge at 0x7fd39e229ac8>],\n",
              " [Text(0.5326781496714867, 0.9624209000549403, ''),\n",
              "  Text(-1.0133885021812972, 0.4278361177445721, ''),\n",
              "  Text(-0.7675893230753074, -0.7879128321716761, ''),\n",
              "  Text(0.2980258670602062, -1.058858150350184, ''),\n",
              "  Text(1.0052593955391278, -0.4466022253418668, '')],\n",
              " [Text(0.29055171800262913, 0.524956854575422, '34.0'),\n",
              "  Text(-0.552757364826162, 0.23336515513340292, '19.0'),\n",
              "  Text(-0.41868508531380394, -0.42977063573000507, '19.0'),\n",
              "  Text(0.16255956385102155, -0.5775589911001002, '15.0'),\n",
              "  Text(0.548323306657706, -0.2436012138228364, '13.0')])"
            ]
          },
          "metadata": {
            "tags": []
          },
          "execution_count": 43
        },
        {
          "output_type": "display_data",
          "data": {
            "image/png": "[encoded data removed]",
            "text/plain": [
              "<Figure size 432x288 with 1 Axes>"
            ]
          },
          "metadata": {
            "tags": []
          }
        }
      ]
    },
    {
      "cell_type": "markdown",
      "metadata": {
        "id": "BZ2pFhnU8XFP",
        "colab_type": "text"
      },
      "source": [
        "# 4. Model Building"
      ]
    },
    {
      "cell_type": "code",
      "metadata": {
        "id": "K1cKh8gl8BTm",
        "colab_type": "code",
        "colab": {}
      },
      "source": [
        "model = keras.Sequential()\n",
        "model.add(keras.layers.Conv2D(64, kernel_size=7, activation='relu', input_shape=(158,210,3)))\n",
        "model.add(keras.layers.Conv2D(32, kernel_size=5, activation='relu'))\n",
        "model.add(keras.layers.MaxPool2D(pool_size=(2, 2), strides=2))\n",
        "model.add(keras.layers.Conv2D(32, kernel_size=3, activation='relu'))\n",
        "model.add(keras.layers.MaxPool2D(pool_size=(2, 2), strides=2))\n",
        "model.add(keras.layers.Conv2D(8, kernel_size=3, activation='relu'))\n",
        "model.add(keras.layers.Flatten())\n",
        "model.add(keras.layers.Dense(5, activation='softmax'))"
      ],
      "execution_count": 0,
      "outputs": []
    },
    {
      "cell_type": "code",
      "metadata": {
        "id": "WtvKnrwg88v9",
        "colab_type": "code",
        "outputId": "a114970b-dbb0-44e3-91db-f68dc499582f",
        "colab": {
          "base_uri": "https://localhost:8080/",
          "height": 403
        }
      },
      "source": [
        "model.summary()"
      ],
      "execution_count": 63,
      "outputs": [
        {
          "output_type": "stream",
          "text": [
            "_________________________________________________________________\n",
            "Layer (type)                 Output Shape              Param #   \n",
            "=================================================================\n",
            "conv2d_5 (Conv2D)            (None, 152, 204, 64)      9472      \n",
            "_________________________________________________________________\n",
            "conv2d_6 (Conv2D)            (None, 148, 200, 32)      51232     \n",
            "_________________________________________________________________\n",
            "max_pooling2d_3 (MaxPooling2 (None, 74, 100, 32)       0         \n",
            "_________________________________________________________________\n",
            "conv2d_7 (Conv2D)            (None, 72, 98, 32)        9248      \n",
            "_________________________________________________________________\n",
            "max_pooling2d_4 (MaxPooling2 (None, 36, 49, 32)        0         \n",
            "_________________________________________________________________\n",
            "conv2d_8 (Conv2D)            (None, 34, 47, 8)         2312      \n",
            "_________________________________________________________________\n",
            "flatten_2 (Flatten)          (None, 12784)             0         \n",
            "_________________________________________________________________\n",
            "dense_2 (Dense)              (None, 5)                 63925     \n",
            "=================================================================\n",
            "Total params: 136,189\n",
            "Trainable params: 136,189\n",
            "Non-trainable params: 0\n",
            "_________________________________________________________________\n"
          ],
          "name": "stdout"
        }
      ]
    },
    {
      "cell_type": "markdown",
      "metadata": {
        "id": "_TtR-0b1FSkj",
        "colab_type": "text"
      },
      "source": [
        "### 3. Splitting train-test data"
      ]
    },
    {
      "cell_type": "markdown",
      "metadata": {
        "id": "YiSVikQ7064l",
        "colab_type": "text"
      },
      "source": [
        "Just splitting data in to training and test set"
      ]
    },
    {
      "cell_type": "code",
      "metadata": {
        "id": "zvH9g6XY5Ief",
        "colab_type": "code",
        "colab": {}
      },
      "source": [
        "from sklearn.model_selection import train_test_split\n",
        "train_X, test_X, train_Y, test_Y = train_test_split(train_csv.resized_raw, train_csv.encoded_category, test_size=0.3)"
      ],
      "execution_count": 0,
      "outputs": []
    },
    {
      "cell_type": "code",
      "metadata": {
        "id": "TaVlx702528P",
        "colab_type": "code",
        "colab": {}
      },
      "source": [
        "model.compile(optimizer='adam', loss='categorical_crossentropy',metrics=['accuracy'])"
      ],
      "execution_count": 0,
      "outputs": []
    },
    {
      "cell_type": "code",
      "metadata": {
        "id": "Z4d5W5tX_fkB",
        "colab_type": "code",
        "colab": {}
      },
      "source": [
        "train_X_arr = np.divide(np.array([train_X.values[i] for i in range(len(train_X))]), 255.0)\n",
        "test_X_arr = np.divide(np.array([test_X.values[i] for i in range(len(test_X))]), 255.0)\n",
        "train_Y_arr = np.divide(np.array([train_Y.values[i] for i in range(len(train_Y))]), 255.0)\n",
        "test_Y_arr = np.divide(np.array([test_Y.values[i] for i in range(len(test_Y))]), 255.0)"
      ],
      "execution_count": 0,
      "outputs": []
    },
    {
      "cell_type": "code",
      "metadata": {
        "id": "FzndjjKOf1us",
        "colab_type": "code",
        "colab": {}
      },
      "source": [
        "del train_X, test_X, train_Y, test_Y\n",
        "#del train_X_arr, test_X_arr, train_Y_arr, test_Y_arr"
      ],
      "execution_count": 0,
      "outputs": []
    },
    {
      "cell_type": "code",
      "metadata": {
        "id": "8PVQmTr_U9f7",
        "colab_type": "code",
        "colab": {
          "base_uri": "https://localhost:8080/",
          "height": 67
        },
        "outputId": "a7b8feaf-bf99-4378-f578-91746d6f037b"
      },
      "source": [
        "model.fit(train_X_arr, train_Y_arr, validation_data=(test_X_arr,test_Y_arr), epochs=50, batch_size=128)"
      ],
      "execution_count": 0,
      "outputs": [
        {
          "output_type": "stream",
          "text": [
            "Train on 4376 samples, validate on 1876 samples\n",
            "Epoch 1/50\n",
            "4352/4376 [============================>.] - ETA: 0s - loss: 0.0061 - acc: 0.3375"
          ],
          "name": "stdout"
        }
      ]
    },
    {
      "cell_type": "code",
      "metadata": {
        "id": "oRBUFwv3AK2d",
        "colab_type": "code",
        "colab": {}
      },
      "source": [
        "model.predict(test_X_arr[0:5])"
      ],
      "execution_count": 0,
      "outputs": []
    },
    {
      "cell_type": "code",
      "metadata": {
        "id": "d_6a6PGMAe8g",
        "colab_type": "code",
        "colab": {}
      },
      "source": [
        "#train_csv.encoded_category.hist()"
      ],
      "execution_count": 0,
      "outputs": []
    },
    {
      "cell_type": "code",
      "metadata": {
        "id": "8NlAOc70BGsw",
        "colab_type": "code",
        "colab": {}
      },
      "source": [
        "train_X.as_matrix().reshape((4376,train_X.iloc[0].shape[0],train_X.iloc[0].shape[1],train_X.iloc[0].shape[2]))"
      ],
      "execution_count": 0,
      "outputs": []
    },
    {
      "cell_type": "code",
      "metadata": {
        "id": "QvPrGIPerR70",
        "colab_type": "code",
        "colab": {}
      },
      "source": [
        ""
      ],
      "execution_count": 0,
      "outputs": []
    }
  ]
}