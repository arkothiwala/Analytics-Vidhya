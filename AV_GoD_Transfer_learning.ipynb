{
  "nbformat": 4,
  "nbformat_minor": 0,
  "metadata": {
    "colab": {
      "name": "AV-GoD Transfer learning",
      "version": "0.3.2",
      "provenance": [],
      "include_colab_link": true
    },
    "kernelspec": {
      "name": "python3",
      "display_name": "Python 3"
    },
    "accelerator": "GPU"
  },
  "cells": [
    {
      "cell_type": "markdown",
      "metadata": {
        "id": "view-in-github",
        "colab_type": "text"
      },
      "source": [
        "<a href=\"https://colab.research.google.com/github/arkothiwala/Analytics-Vidhya/blob/master/AV_GoD_Transfer_learning.ipynb\" target=\"_parent\"><img src=\"https://colab.research.google.com/assets/colab-badge.svg\" alt=\"Open In Colab\"/></a>"
      ]
    },
    {
      "cell_type": "code",
      "metadata": {
        "id": "1so2pXN32dyR",
        "colab_type": "code",
        "colab": {
          "base_uri": "https://localhost:8080/",
          "height": 50
        },
        "outputId": "2f7183bc-1599-4f4c-b730-f04ec7e9f144"
      },
      "source": [
        "!pip install -U -q PyDrive\n",
        "from pydrive.auth import GoogleAuth\n",
        "from pydrive.drive import GoogleDrive\n",
        "from google.colab import auth\n",
        "from oauth2client.client import GoogleCredentials\n",
        "import torch\n",
        "# Authenticate and create the PyDrive client.\n",
        "# This only needs to be done once per notebook.\n",
        "auth.authenticate_user()\n",
        "gauth = GoogleAuth()\n",
        "gauth.credentials = GoogleCredentials.get_application_default()\n",
        "drive = GoogleDrive(gauth)"
      ],
      "execution_count": 1,
      "outputs": [
        {
          "output_type": "stream",
          "text": [
            "\u001b[?25l\r\u001b[K     |▎                               | 10kB 21.7MB/s eta 0:00:01\r\u001b[K     |▋                               | 20kB 7.0MB/s eta 0:00:01\r\u001b[K     |█                               | 30kB 9.8MB/s eta 0:00:01\r\u001b[K     |█▎                              | 40kB 6.3MB/s eta 0:00:01\r\u001b[K     |█▋                              | 51kB 7.6MB/s eta 0:00:01\r\u001b[K     |██                              | 61kB 9.0MB/s eta 0:00:01\r\u001b[K     |██▎                             | 71kB 10.1MB/s eta 0:00:01\r\u001b[K     |██▋                             | 81kB 11.3MB/s eta 0:00:01\r\u001b[K     |███                             | 92kB 12.4MB/s eta 0:00:01\r\u001b[K     |███▎                            | 102kB 10.1MB/s eta 0:00:01\r\u001b[K     |███▋                            | 112kB 10.1MB/s eta 0:00:01\r\u001b[K     |████                            | 122kB 10.1MB/s eta 0:00:01\r\u001b[K     |████▎                           | 133kB 10.1MB/s eta 0:00:01\r\u001b[K     |████▋                           | 143kB 10.1MB/s eta 0:00:01\r\u001b[K     |█████                           | 153kB 10.1MB/s eta 0:00:01\r\u001b[K     |█████▎                          | 163kB 10.1MB/s eta 0:00:01\r\u001b[K     |█████▋                          | 174kB 10.1MB/s eta 0:00:01\r\u001b[K     |██████                          | 184kB 10.1MB/s eta 0:00:01\r\u001b[K     |██████▎                         | 194kB 10.1MB/s eta 0:00:01\r\u001b[K     |██████▋                         | 204kB 10.1MB/s eta 0:00:01\r\u001b[K     |███████                         | 215kB 10.1MB/s eta 0:00:01\r\u001b[K     |███████▎                        | 225kB 10.1MB/s eta 0:00:01\r\u001b[K     |███████▋                        | 235kB 10.1MB/s eta 0:00:01\r\u001b[K     |████████                        | 245kB 10.1MB/s eta 0:00:01\r\u001b[K     |████████▎                       | 256kB 10.1MB/s eta 0:00:01\r\u001b[K     |████████▋                       | 266kB 10.1MB/s eta 0:00:01\r\u001b[K     |█████████                       | 276kB 10.1MB/s eta 0:00:01\r\u001b[K     |█████████▎                      | 286kB 10.1MB/s eta 0:00:01\r\u001b[K     |█████████▋                      | 296kB 10.1MB/s eta 0:00:01\r\u001b[K     |██████████                      | 307kB 10.1MB/s eta 0:00:01\r\u001b[K     |██████████▎                     | 317kB 10.1MB/s eta 0:00:01\r\u001b[K     |██████████▋                     | 327kB 10.1MB/s eta 0:00:01\r\u001b[K     |███████████                     | 337kB 10.1MB/s eta 0:00:01\r\u001b[K     |███████████▎                    | 348kB 10.1MB/s eta 0:00:01\r\u001b[K     |███████████▋                    | 358kB 10.1MB/s eta 0:00:01\r\u001b[K     |████████████                    | 368kB 10.1MB/s eta 0:00:01\r\u001b[K     |████████████▎                   | 378kB 10.1MB/s eta 0:00:01\r\u001b[K     |████████████▋                   | 389kB 10.1MB/s eta 0:00:01\r\u001b[K     |█████████████                   | 399kB 10.1MB/s eta 0:00:01\r\u001b[K     |█████████████▎                  | 409kB 10.1MB/s eta 0:00:01\r\u001b[K     |█████████████▋                  | 419kB 10.1MB/s eta 0:00:01\r\u001b[K     |██████████████                  | 430kB 10.1MB/s eta 0:00:01\r\u001b[K     |██████████████▎                 | 440kB 10.1MB/s eta 0:00:01\r\u001b[K     |██████████████▋                 | 450kB 10.1MB/s eta 0:00:01\r\u001b[K     |███████████████                 | 460kB 10.1MB/s eta 0:00:01\r\u001b[K     |███████████████▎                | 471kB 10.1MB/s eta 0:00:01\r\u001b[K     |███████████████▋                | 481kB 10.1MB/s eta 0:00:01\r\u001b[K     |████████████████                | 491kB 10.1MB/s eta 0:00:01\r\u001b[K     |████████████████▎               | 501kB 10.1MB/s eta 0:00:01\r\u001b[K     |████████████████▋               | 512kB 10.1MB/s eta 0:00:01\r\u001b[K     |█████████████████               | 522kB 10.1MB/s eta 0:00:01\r\u001b[K     |█████████████████▎              | 532kB 10.1MB/s eta 0:00:01\r\u001b[K     |█████████████████▋              | 542kB 10.1MB/s eta 0:00:01\r\u001b[K     |██████████████████              | 552kB 10.1MB/s eta 0:00:01\r\u001b[K     |██████████████████▎             | 563kB 10.1MB/s eta 0:00:01\r\u001b[K     |██████████████████▋             | 573kB 10.1MB/s eta 0:00:01\r\u001b[K     |███████████████████             | 583kB 10.1MB/s eta 0:00:01\r\u001b[K     |███████████████████▎            | 593kB 10.1MB/s eta 0:00:01\r\u001b[K     |███████████████████▋            | 604kB 10.1MB/s eta 0:00:01\r\u001b[K     |████████████████████            | 614kB 10.1MB/s eta 0:00:01\r\u001b[K     |████████████████████▎           | 624kB 10.1MB/s eta 0:00:01\r\u001b[K     |████████████████████▋           | 634kB 10.1MB/s eta 0:00:01\r\u001b[K     |█████████████████████           | 645kB 10.1MB/s eta 0:00:01\r\u001b[K     |█████████████████████▎          | 655kB 10.1MB/s eta 0:00:01\r\u001b[K     |█████████████████████▋          | 665kB 10.1MB/s eta 0:00:01\r\u001b[K     |██████████████████████          | 675kB 10.1MB/s eta 0:00:01\r\u001b[K     |██████████████████████▎         | 686kB 10.1MB/s eta 0:00:01\r\u001b[K     |██████████████████████▋         | 696kB 10.1MB/s eta 0:00:01\r\u001b[K     |███████████████████████         | 706kB 10.1MB/s eta 0:00:01\r\u001b[K     |███████████████████████▎        | 716kB 10.1MB/s eta 0:00:01\r\u001b[K     |███████████████████████▋        | 727kB 10.1MB/s eta 0:00:01\r\u001b[K     |████████████████████████        | 737kB 10.1MB/s eta 0:00:01\r\u001b[K     |████████████████████████▎       | 747kB 10.1MB/s eta 0:00:01\r\u001b[K     |████████████████████████▋       | 757kB 10.1MB/s eta 0:00:01\r\u001b[K     |████████████████████████▉       | 768kB 10.1MB/s eta 0:00:01\r\u001b[K     |█████████████████████████▏      | 778kB 10.1MB/s eta 0:00:01\r\u001b[K     |█████████████████████████▌      | 788kB 10.1MB/s eta 0:00:01\r\u001b[K     |█████████████████████████▉      | 798kB 10.1MB/s eta 0:00:01\r\u001b[K     |██████████████████████████▏     | 808kB 10.1MB/s eta 0:00:01\r\u001b[K     |██████████████████████████▌     | 819kB 10.1MB/s eta 0:00:01\r\u001b[K     |██████████████████████████▉     | 829kB 10.1MB/s eta 0:00:01\r\u001b[K     |███████████████████████████▏    | 839kB 10.1MB/s eta 0:00:01\r\u001b[K     |███████████████████████████▌    | 849kB 10.1MB/s eta 0:00:01\r\u001b[K     |███████████████████████████▉    | 860kB 10.1MB/s eta 0:00:01\r\u001b[K     |████████████████████████████▏   | 870kB 10.1MB/s eta 0:00:01\r\u001b[K     |████████████████████████████▌   | 880kB 10.1MB/s eta 0:00:01\r\u001b[K     |████████████████████████████▉   | 890kB 10.1MB/s eta 0:00:01\r\u001b[K     |█████████████████████████████▏  | 901kB 10.1MB/s eta 0:00:01\r\u001b[K     |█████████████████████████████▌  | 911kB 10.1MB/s eta 0:00:01\r\u001b[K     |█████████████████████████████▉  | 921kB 10.1MB/s eta 0:00:01\r\u001b[K     |██████████████████████████████▏ | 931kB 10.1MB/s eta 0:00:01\r\u001b[K     |██████████████████████████████▌ | 942kB 10.1MB/s eta 0:00:01\r\u001b[K     |██████████████████████████████▉ | 952kB 10.1MB/s eta 0:00:01\r\u001b[K     |███████████████████████████████▏| 962kB 10.1MB/s eta 0:00:01\r\u001b[K     |███████████████████████████████▌| 972kB 10.1MB/s eta 0:00:01\r\u001b[K     |███████████████████████████████▉| 983kB 10.1MB/s eta 0:00:01\r\u001b[K     |████████████████████████████████| 993kB 10.1MB/s \n",
            "\u001b[?25h  Building wheel for PyDrive (setup.py) ... \u001b[?25l\u001b[?25hdone\n"
          ],
          "name": "stdout"
        }
      ]
    },
    {
      "cell_type": "code",
      "metadata": {
        "id": "gjfVtpo93YL9",
        "colab_type": "code",
        "colab": {}
      },
      "source": [
        "# Download a file based on its file ID.\n",
        "#\n",
        "# A file ID looks like: laggVyWshwcyP6kEI-y_W3P8D26sz\n",
        "file_id = '1zRzgwnzMs52MN674v6TFDOMrKi1jg6dN' #File ID for the required Trainingdata\n",
        "downloaded = drive.CreateFile({'id': file_id})\n",
        "downloaded.GetContentFile('train-ship classification.zip')"
      ],
      "execution_count": 0,
      "outputs": []
    },
    {
      "cell_type": "code",
      "metadata": {
        "id": "EOFPNtei3xUZ",
        "colab_type": "code",
        "colab": {}
      },
      "source": [
        "import zipfile\n",
        "zip_ref = zipfile.ZipFile('train-ship classification.zip', 'r')\n",
        "zip_ref.extractall('data')\n",
        "zip_ref.close()"
      ],
      "execution_count": 0,
      "outputs": []
    },
    {
      "cell_type": "code",
      "metadata": {
        "id": "-82VluQn3zw0",
        "colab_type": "code",
        "colab": {}
      },
      "source": [
        ""
      ],
      "execution_count": 0,
      "outputs": []
    }
  ]
}