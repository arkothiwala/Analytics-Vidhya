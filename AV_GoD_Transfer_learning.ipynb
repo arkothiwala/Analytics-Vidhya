{
  "nbformat": 4,
  "nbformat_minor": 0,
  "metadata": {
    "colab": {
      "name": "AV-GoD Transfer learning",
      "version": "0.3.2",
      "provenance": [],
      "include_colab_link": true
    },
    "kernelspec": {
      "name": "python3",
      "display_name": "Python 3"
    },
    "accelerator": "GPU"
  },
  "cells": [
    {
      "cell_type": "markdown",
      "metadata": {
        "id": "view-in-github",
        "colab_type": "text"
      },
      "source": [
        "<a href=\"https://colab.research.google.com/github/arkothiwala/Analytics-Vidhya/blob/master/AV_GoD_Transfer_learning.ipynb\" target=\"_parent\"><img src=\"https://colab.research.google.com/assets/colab-badge.svg\" alt=\"Open In Colab\"/></a>"
      ]
    },
    {
      "cell_type": "code",
      "metadata": {
        "id": "1so2pXN32dyR",
        "colab_type": "code",
        "outputId": "5403b723-a9ee-48ec-ddae-f3f1f07ef9ca",
        "colab": {
          "base_uri": "https://localhost:8080/",
          "height": 50
        }
      },
      "source": [
        "!pip install -U -q PyDrive\n",
        "from pydrive.auth import GoogleAuth\n",
        "from pydrive.drive import GoogleDrive\n",
        "from google.colab import auth\n",
        "from oauth2client.client import GoogleCredentials\n",
        "import torch\n",
        "# Authenticate and create the PyDrive client.\n",
        "# This only needs to be done once per notebook.\n",
        "auth.authenticate_user()\n",
        "gauth = GoogleAuth()\n",
        "gauth.credentials = GoogleCredentials.get_application_default()\n",
        "drive = GoogleDrive(gauth)"
      ],
      "execution_count": 1,
      "outputs": [
        {
          "output_type": "stream",
          "text": [
            "\u001b[?25l\r\u001b[K     |▎                               | 10kB 22.0MB/s eta 0:00:01\r\u001b[K     |▋                               | 20kB 25.9MB/s eta 0:00:01\r\u001b[K     |█                               | 30kB 31.0MB/s eta 0:00:01\r\u001b[K     |█▎                              | 40kB 35.5MB/s eta 0:00:01\r\u001b[K     |█▋                              | 51kB 38.3MB/s eta 0:00:01\r\u001b[K     |██                              | 61kB 42.7MB/s eta 0:00:01\r\u001b[K     |██▎                             | 71kB 44.0MB/s eta 0:00:01\r\u001b[K     |██▋                             | 81kB 43.7MB/s eta 0:00:01\r\u001b[K     |███                             | 92kB 46.2MB/s eta 0:00:01\r\u001b[K     |███▎                            | 102kB 48.1MB/s eta 0:00:01\r\u001b[K     |███▋                            | 112kB 48.1MB/s eta 0:00:01\r\u001b[K     |████                            | 122kB 48.1MB/s eta 0:00:01\r\u001b[K     |████▎                           | 133kB 48.1MB/s eta 0:00:01\r\u001b[K     |████▋                           | 143kB 48.1MB/s eta 0:00:01\r\u001b[K     |█████                           | 153kB 48.1MB/s eta 0:00:01\r\u001b[K     |█████▎                          | 163kB 48.1MB/s eta 0:00:01\r\u001b[K     |█████▋                          | 174kB 48.1MB/s eta 0:00:01\r\u001b[K     |██████                          | 184kB 48.1MB/s eta 0:00:01\r\u001b[K     |██████▎                         | 194kB 48.1MB/s eta 0:00:01\r\u001b[K     |██████▋                         | 204kB 48.1MB/s eta 0:00:01\r\u001b[K     |███████                         | 215kB 48.1MB/s eta 0:00:01\r\u001b[K     |███████▎                        | 225kB 48.1MB/s eta 0:00:01\r\u001b[K     |███████▋                        | 235kB 48.1MB/s eta 0:00:01\r\u001b[K     |████████                        | 245kB 48.1MB/s eta 0:00:01\r\u001b[K     |████████▎                       | 256kB 48.1MB/s eta 0:00:01\r\u001b[K     |████████▋                       | 266kB 48.1MB/s eta 0:00:01\r\u001b[K     |█████████                       | 276kB 48.1MB/s eta 0:00:01\r\u001b[K     |█████████▎                      | 286kB 48.1MB/s eta 0:00:01\r\u001b[K     |█████████▋                      | 296kB 48.1MB/s eta 0:00:01\r\u001b[K     |██████████                      | 307kB 48.1MB/s eta 0:00:01\r\u001b[K     |██████████▎                     | 317kB 48.1MB/s eta 0:00:01\r\u001b[K     |██████████▋                     | 327kB 48.1MB/s eta 0:00:01\r\u001b[K     |███████████                     | 337kB 48.1MB/s eta 0:00:01\r\u001b[K     |███████████▎                    | 348kB 48.1MB/s eta 0:00:01\r\u001b[K     |███████████▋                    | 358kB 48.1MB/s eta 0:00:01\r\u001b[K     |████████████                    | 368kB 48.1MB/s eta 0:00:01\r\u001b[K     |████████████▎                   | 378kB 48.1MB/s eta 0:00:01\r\u001b[K     |████████████▋                   | 389kB 48.1MB/s eta 0:00:01\r\u001b[K     |█████████████                   | 399kB 48.1MB/s eta 0:00:01\r\u001b[K     |█████████████▎                  | 409kB 48.1MB/s eta 0:00:01\r\u001b[K     |█████████████▋                  | 419kB 48.1MB/s eta 0:00:01\r\u001b[K     |██████████████                  | 430kB 48.1MB/s eta 0:00:01\r\u001b[K     |██████████████▎                 | 440kB 48.1MB/s eta 0:00:01\r\u001b[K     |██████████████▋                 | 450kB 48.1MB/s eta 0:00:01\r\u001b[K     |███████████████                 | 460kB 48.1MB/s eta 0:00:01\r\u001b[K     |███████████████▎                | 471kB 48.1MB/s eta 0:00:01\r\u001b[K     |███████████████▋                | 481kB 48.1MB/s eta 0:00:01\r\u001b[K     |████████████████                | 491kB 48.1MB/s eta 0:00:01\r\u001b[K     |████████████████▎               | 501kB 48.1MB/s eta 0:00:01\r\u001b[K     |████████████████▋               | 512kB 48.1MB/s eta 0:00:01\r\u001b[K     |█████████████████               | 522kB 48.1MB/s eta 0:00:01\r\u001b[K     |█████████████████▎              | 532kB 48.1MB/s eta 0:00:01\r\u001b[K     |█████████████████▋              | 542kB 48.1MB/s eta 0:00:01\r\u001b[K     |██████████████████              | 552kB 48.1MB/s eta 0:00:01\r\u001b[K     |██████████████████▎             | 563kB 48.1MB/s eta 0:00:01\r\u001b[K     |██████████████████▋             | 573kB 48.1MB/s eta 0:00:01\r\u001b[K     |███████████████████             | 583kB 48.1MB/s eta 0:00:01\r\u001b[K     |███████████████████▎            | 593kB 48.1MB/s eta 0:00:01\r\u001b[K     |███████████████████▋            | 604kB 48.1MB/s eta 0:00:01\r\u001b[K     |████████████████████            | 614kB 48.1MB/s eta 0:00:01\r\u001b[K     |████████████████████▎           | 624kB 48.1MB/s eta 0:00:01\r\u001b[K     |████████████████████▋           | 634kB 48.1MB/s eta 0:00:01\r\u001b[K     |█████████████████████           | 645kB 48.1MB/s eta 0:00:01\r\u001b[K     |█████████████████████▎          | 655kB 48.1MB/s eta 0:00:01\r\u001b[K     |█████████████████████▋          | 665kB 48.1MB/s eta 0:00:01\r\u001b[K     |██████████████████████          | 675kB 48.1MB/s eta 0:00:01\r\u001b[K     |██████████████████████▎         | 686kB 48.1MB/s eta 0:00:01\r\u001b[K     |██████████████████████▋         | 696kB 48.1MB/s eta 0:00:01\r\u001b[K     |███████████████████████         | 706kB 48.1MB/s eta 0:00:01\r\u001b[K     |███████████████████████▎        | 716kB 48.1MB/s eta 0:00:01\r\u001b[K     |███████████████████████▋        | 727kB 48.1MB/s eta 0:00:01\r\u001b[K     |████████████████████████        | 737kB 48.1MB/s eta 0:00:01\r\u001b[K     |████████████████████████▎       | 747kB 48.1MB/s eta 0:00:01\r\u001b[K     |████████████████████████▋       | 757kB 48.1MB/s eta 0:00:01\r\u001b[K     |████████████████████████▉       | 768kB 48.1MB/s eta 0:00:01\r\u001b[K     |█████████████████████████▏      | 778kB 48.1MB/s eta 0:00:01\r\u001b[K     |█████████████████████████▌      | 788kB 48.1MB/s eta 0:00:01\r\u001b[K     |█████████████████████████▉      | 798kB 48.1MB/s eta 0:00:01\r\u001b[K     |██████████████████████████▏     | 808kB 48.1MB/s eta 0:00:01\r\u001b[K     |██████████████████████████▌     | 819kB 48.1MB/s eta 0:00:01\r\u001b[K     |██████████████████████████▉     | 829kB 48.1MB/s eta 0:00:01\r\u001b[K     |███████████████████████████▏    | 839kB 48.1MB/s eta 0:00:01\r\u001b[K     |███████████████████████████▌    | 849kB 48.1MB/s eta 0:00:01\r\u001b[K     |███████████████████████████▉    | 860kB 48.1MB/s eta 0:00:01\r\u001b[K     |████████████████████████████▏   | 870kB 48.1MB/s eta 0:00:01\r\u001b[K     |████████████████████████████▌   | 880kB 48.1MB/s eta 0:00:01\r\u001b[K     |████████████████████████████▉   | 890kB 48.1MB/s eta 0:00:01\r\u001b[K     |█████████████████████████████▏  | 901kB 48.1MB/s eta 0:00:01\r\u001b[K     |█████████████████████████████▌  | 911kB 48.1MB/s eta 0:00:01\r\u001b[K     |█████████████████████████████▉  | 921kB 48.1MB/s eta 0:00:01\r\u001b[K     |██████████████████████████████▏ | 931kB 48.1MB/s eta 0:00:01\r\u001b[K     |██████████████████████████████▌ | 942kB 48.1MB/s eta 0:00:01\r\u001b[K     |██████████████████████████████▉ | 952kB 48.1MB/s eta 0:00:01\r\u001b[K     |███████████████████████████████▏| 962kB 48.1MB/s eta 0:00:01\r\u001b[K     |███████████████████████████████▌| 972kB 48.1MB/s eta 0:00:01\r\u001b[K     |███████████████████████████████▉| 983kB 48.1MB/s eta 0:00:01\r\u001b[K     |████████████████████████████████| 993kB 48.1MB/s \n",
            "\u001b[?25h  Building wheel for PyDrive (setup.py) ... \u001b[?25l\u001b[?25hdone\n"
          ],
          "name": "stdout"
        }
      ]
    },
    {
      "cell_type": "code",
      "metadata": {
        "id": "gjfVtpo93YL9",
        "colab_type": "code",
        "colab": {}
      },
      "source": [
        "# Download a file based on its file ID.\n",
        "#\n",
        "# A file ID looks like: laggVyWshwcyP6kEI-y_W3P8D26sz\n",
        "file_id = '1zRzgwnzMs52MN674v6TFDOMrKi1jg6dN' #File ID for the required Trainingdata\n",
        "downloaded = drive.CreateFile({'id': file_id})\n",
        "downloaded.GetContentFile('train-ship classification.zip')"
      ],
      "execution_count": 0,
      "outputs": []
    },
    {
      "cell_type": "code",
      "metadata": {
        "id": "EOFPNtei3xUZ",
        "colab_type": "code",
        "colab": {}
      },
      "source": [
        "import zipfile\n",
        "zip_ref = zipfile.ZipFile('train-ship classification.zip', 'r')\n",
        "zip_ref.extractall('data')\n",
        "zip_ref.close()"
      ],
      "execution_count": 0,
      "outputs": []
    },
    {
      "cell_type": "markdown",
      "metadata": {
        "id": "ATT9VxKbbpYZ",
        "colab_type": "text"
      },
      "source": [
        ""
      ]
    },
    {
      "cell_type": "code",
      "metadata": {
        "id": "-82VluQn3zw0",
        "colab_type": "code",
        "outputId": "21261f22-b34c-45df-f777-3d13bbfde8da",
        "colab": {
          "base_uri": "https://localhost:8080/",
          "height": 34
        }
      },
      "source": [
        "import pandas as pd\n",
        "import numpy as np\n",
        "import os\n",
        "import keras\n",
        "import matplotlib.pyplot as plt\n",
        "from keras.layers import Dense,GlobalAveragePooling2D\n",
        "from keras.applications import MobileNet\n",
        "from keras.preprocessing import image\n",
        "from keras.applications.mobilenet import preprocess_input\n",
        "from keras.preprocessing.image import ImageDataGenerator\n",
        "from keras.models import Model\n",
        "from keras.optimizers import Adam"
      ],
      "execution_count": 4,
      "outputs": [
        {
          "output_type": "stream",
          "text": [
            "Using TensorFlow backend.\n"
          ],
          "name": "stderr"
        }
      ]
    },
    {
      "cell_type": "code",
      "metadata": {
        "id": "mRzFhys4MIcK",
        "colab_type": "code",
        "colab": {
          "base_uri": "https://localhost:8080/",
          "height": 195
        },
        "outputId": "d03d0448-257b-4052-d641-0b18ea1d79fe"
      },
      "source": [
        "train_csv = pd.read_csv('./data/train.csv')\n",
        "train_csv.head()"
      ],
      "execution_count": 5,
      "outputs": [
        {
          "output_type": "execute_result",
          "data": {
            "text/html": [
              "<div>\n",
              "<style scoped>\n",
              "    .dataframe tbody tr th:only-of-type {\n",
              "        vertical-align: middle;\n",
              "    }\n",
              "\n",
              "    .dataframe tbody tr th {\n",
              "        vertical-align: top;\n",
              "    }\n",
              "\n",
              "    .dataframe thead th {\n",
              "        text-align: right;\n",
              "    }\n",
              "</style>\n",
              "<table border=\"1\" class=\"dataframe\">\n",
              "  <thead>\n",
              "    <tr style=\"text-align: right;\">\n",
              "      <th></th>\n",
              "      <th>image</th>\n",
              "      <th>category</th>\n",
              "    </tr>\n",
              "  </thead>\n",
              "  <tbody>\n",
              "    <tr>\n",
              "      <th>0</th>\n",
              "      <td>2823080.jpg</td>\n",
              "      <td>1</td>\n",
              "    </tr>\n",
              "    <tr>\n",
              "      <th>1</th>\n",
              "      <td>2870024.jpg</td>\n",
              "      <td>1</td>\n",
              "    </tr>\n",
              "    <tr>\n",
              "      <th>2</th>\n",
              "      <td>2662125.jpg</td>\n",
              "      <td>2</td>\n",
              "    </tr>\n",
              "    <tr>\n",
              "      <th>3</th>\n",
              "      <td>2900420.jpg</td>\n",
              "      <td>3</td>\n",
              "    </tr>\n",
              "    <tr>\n",
              "      <th>4</th>\n",
              "      <td>2804883.jpg</td>\n",
              "      <td>2</td>\n",
              "    </tr>\n",
              "  </tbody>\n",
              "</table>\n",
              "</div>"
            ],
            "text/plain": [
              "         image  category\n",
              "0  2823080.jpg         1\n",
              "1  2870024.jpg         1\n",
              "2  2662125.jpg         2\n",
              "3  2900420.jpg         3\n",
              "4  2804883.jpg         2"
            ]
          },
          "metadata": {
            "tags": []
          },
          "execution_count": 5
        }
      ]
    },
    {
      "cell_type": "code",
      "metadata": {
        "id": "DmCDmpeeM6BB",
        "colab_type": "code",
        "colab": {
          "base_uri": "https://localhost:8080/",
          "height": 118
        },
        "outputId": "1bfdc678-3c94-436c-f091-a2248134ff7b"
      },
      "source": [
        "train_csv.category.value_counts()"
      ],
      "execution_count": 6,
      "outputs": [
        {
          "output_type": "execute_result",
          "data": {
            "text/plain": [
              "1    2120\n",
              "5    1217\n",
              "2    1167\n",
              "3     916\n",
              "4     832\n",
              "Name: category, dtype: int64"
            ]
          },
          "metadata": {
            "tags": []
          },
          "execution_count": 6
        }
      ]
    },
    {
      "cell_type": "code",
      "metadata": {
        "id": "uFZiJJ-yVUdh",
        "colab_type": "code",
        "colab": {}
      },
      "source": [
        "#shutil.rmtree('./images')\n",
        "os.mkdir('./train')\n",
        "os.mkdir('./validation')\n",
        "for i in range(1,6):\n",
        "  os.mkdir('./train/{}/'.format(i))\n",
        "  os.mkdir('./validation/{}/'.format(i))"
      ],
      "execution_count": 0,
      "outputs": []
    },
    {
      "cell_type": "code",
      "metadata": {
        "id": "RgteGpJxaH_X",
        "colab_type": "code",
        "colab": {}
      },
      "source": [
        "from sklearn.model_selection import train_test_split"
      ],
      "execution_count": 0,
      "outputs": []
    },
    {
      "cell_type": "code",
      "metadata": {
        "id": "dP6do3qbaTGk",
        "colab_type": "code",
        "colab": {}
      },
      "source": [
        "x,y = train_test_split(train_csv, test_size=0.3)"
      ],
      "execution_count": 0,
      "outputs": []
    },
    {
      "cell_type": "code",
      "metadata": {
        "id": "75pnUW63SsFJ",
        "colab_type": "code",
        "colab": {}
      },
      "source": [
        "import os\n",
        "import shutil\n",
        "\n",
        "#os.rename(\"path/to/current/file.foo\", \"path/to/new/destination/for/file.foo\")\n",
        "#shutil.move(\"path/to/current/file.foo\", \"path/to/new/destination/for/file.foo\")"
      ],
      "execution_count": 0,
      "outputs": []
    },
    {
      "cell_type": "code",
      "metadata": {
        "id": "JpK2TwCWO8U4",
        "colab_type": "code",
        "colab": {}
      },
      "source": [
        "for i in range(len(x)):\n",
        "  category = x.category.iloc[i]\n",
        "  image_name = x.image.iloc[i]\n",
        "  os.rename(\"./data/images/{}\".format(image_name) ,\"./train/{}/{}\".format(category, image_name))\n",
        "  \n",
        "for i in range(len(y)):\n",
        "  category = y.category.iloc[i]\n",
        "  image_name = y.image.iloc[i]\n",
        "  os.rename(\"./data/images/{}\".format(image_name) ,\"./validation/{}/{}\".format(category, image_name))"
      ],
      "execution_count": 0,
      "outputs": []
    },
    {
      "cell_type": "markdown",
      "metadata": {
        "id": "kxoH9gQgOKqV",
        "colab_type": "text"
      },
      "source": [
        "### Transfer learning without removing existing layers\n",
        "\n",
        "\n",
        "\n"
      ]
    },
    {
      "cell_type": "code",
      "metadata": {
        "id": "WlkYsGXCFrpo",
        "colab_type": "code",
        "outputId": "319b18f9-b379-41f3-cb6c-d73c4b52c4bf",
        "colab": {
          "base_uri": "https://localhost:8080/",
          "height": 154
        }
      },
      "source": [
        "\n",
        "base_model=MobileNet(weights='imagenet',include_top=False) #imports the mobilenet model and discards the last 1000 neuron layer.\n",
        "\n",
        "x=base_model.output\n",
        "x=GlobalAveragePooling2D()(x)\n",
        "x=Dense(1024,activation='relu')(x) #we add dense layers so that the model can learn more complex functions and classify for better results.\n",
        "#x=Dense(1024,activation='relu')(x) #dense layer 2\n",
        "x=Dense(512,activation='relu')(x) #dense layer 3\n",
        "preds=Dense(5,activation='softmax')(x) #final layer with softmax activation"
      ],
      "execution_count": 12,
      "outputs": [
        {
          "output_type": "stream",
          "text": [
            "WARNING:tensorflow:From /usr/local/lib/python3.6/dist-packages/tensorflow/python/framework/op_def_library.py:263: colocate_with (from tensorflow.python.framework.ops) is deprecated and will be removed in a future version.\n",
            "Instructions for updating:\n",
            "Colocations handled automatically by placer.\n"
          ],
          "name": "stdout"
        },
        {
          "output_type": "stream",
          "text": [
            "/usr/local/lib/python3.6/dist-packages/keras_applications/mobilenet.py:207: UserWarning: `input_shape` is undefined or non-square, or `rows` is not in [128, 160, 192, 224]. Weights for input shape (224, 224) will be loaded as the default.\n",
            "  warnings.warn('`input_shape` is undefined or non-square, '\n"
          ],
          "name": "stderr"
        },
        {
          "output_type": "stream",
          "text": [
            "Downloading data from https://github.com/fchollet/deep-learning-models/releases/download/v0.6/mobilenet_1_0_224_tf_no_top.h5\n",
            "17227776/17225924 [==============================] - 2s 0us/step\n"
          ],
          "name": "stdout"
        }
      ]
    },
    {
      "cell_type": "markdown",
      "metadata": {
        "id": "aTYzcze0OXJw",
        "colab_type": "text"
      },
      "source": [
        "### Transfer learning by removing existing layers"
      ]
    },
    {
      "cell_type": "code",
      "metadata": {
        "id": "fX8NK56HGb14",
        "colab_type": "code",
        "colab": {}
      },
      "source": [
        "model=Model(inputs=base_model.input,outputs=preds)"
      ],
      "execution_count": 0,
      "outputs": []
    },
    {
      "cell_type": "code",
      "metadata": {
        "id": "10QqcE91GpKY",
        "colab_type": "code",
        "colab": {}
      },
      "source": [
        "for layer in model.layers:\n",
        "    layer.trainable=False\n",
        "for layer in model.layers[-4:]:\n",
        "    layer.trainable=True"
      ],
      "execution_count": 0,
      "outputs": []
    },
    {
      "cell_type": "code",
      "metadata": {
        "id": "fOlsvkM3HeIU",
        "colab_type": "code",
        "outputId": "5b1622dc-889e-4e73-8800-bbd76c18b70f",
        "colab": {
          "base_uri": "https://localhost:8080/",
          "height": 3192
        }
      },
      "source": [
        "model.summary()"
      ],
      "execution_count": 15,
      "outputs": [
        {
          "output_type": "stream",
          "text": [
            "_________________________________________________________________\n",
            "Layer (type)                 Output Shape              Param #   \n",
            "=================================================================\n",
            "input_1 (InputLayer)         (None, None, None, 3)     0         \n",
            "_________________________________________________________________\n",
            "conv1_pad (ZeroPadding2D)    (None, None, None, 3)     0         \n",
            "_________________________________________________________________\n",
            "conv1 (Conv2D)               (None, None, None, 32)    864       \n",
            "_________________________________________________________________\n",
            "conv1_bn (BatchNormalization (None, None, None, 32)    128       \n",
            "_________________________________________________________________\n",
            "conv1_relu (ReLU)            (None, None, None, 32)    0         \n",
            "_________________________________________________________________\n",
            "conv_dw_1 (DepthwiseConv2D)  (None, None, None, 32)    288       \n",
            "_________________________________________________________________\n",
            "conv_dw_1_bn (BatchNormaliza (None, None, None, 32)    128       \n",
            "_________________________________________________________________\n",
            "conv_dw_1_relu (ReLU)        (None, None, None, 32)    0         \n",
            "_________________________________________________________________\n",
            "conv_pw_1 (Conv2D)           (None, None, None, 64)    2048      \n",
            "_________________________________________________________________\n",
            "conv_pw_1_bn (BatchNormaliza (None, None, None, 64)    256       \n",
            "_________________________________________________________________\n",
            "conv_pw_1_relu (ReLU)        (None, None, None, 64)    0         \n",
            "_________________________________________________________________\n",
            "conv_pad_2 (ZeroPadding2D)   (None, None, None, 64)    0         \n",
            "_________________________________________________________________\n",
            "conv_dw_2 (DepthwiseConv2D)  (None, None, None, 64)    576       \n",
            "_________________________________________________________________\n",
            "conv_dw_2_bn (BatchNormaliza (None, None, None, 64)    256       \n",
            "_________________________________________________________________\n",
            "conv_dw_2_relu (ReLU)        (None, None, None, 64)    0         \n",
            "_________________________________________________________________\n",
            "conv_pw_2 (Conv2D)           (None, None, None, 128)   8192      \n",
            "_________________________________________________________________\n",
            "conv_pw_2_bn (BatchNormaliza (None, None, None, 128)   512       \n",
            "_________________________________________________________________\n",
            "conv_pw_2_relu (ReLU)        (None, None, None, 128)   0         \n",
            "_________________________________________________________________\n",
            "conv_dw_3 (DepthwiseConv2D)  (None, None, None, 128)   1152      \n",
            "_________________________________________________________________\n",
            "conv_dw_3_bn (BatchNormaliza (None, None, None, 128)   512       \n",
            "_________________________________________________________________\n",
            "conv_dw_3_relu (ReLU)        (None, None, None, 128)   0         \n",
            "_________________________________________________________________\n",
            "conv_pw_3 (Conv2D)           (None, None, None, 128)   16384     \n",
            "_________________________________________________________________\n",
            "conv_pw_3_bn (BatchNormaliza (None, None, None, 128)   512       \n",
            "_________________________________________________________________\n",
            "conv_pw_3_relu (ReLU)        (None, None, None, 128)   0         \n",
            "_________________________________________________________________\n",
            "conv_pad_4 (ZeroPadding2D)   (None, None, None, 128)   0         \n",
            "_________________________________________________________________\n",
            "conv_dw_4 (DepthwiseConv2D)  (None, None, None, 128)   1152      \n",
            "_________________________________________________________________\n",
            "conv_dw_4_bn (BatchNormaliza (None, None, None, 128)   512       \n",
            "_________________________________________________________________\n",
            "conv_dw_4_relu (ReLU)        (None, None, None, 128)   0         \n",
            "_________________________________________________________________\n",
            "conv_pw_4 (Conv2D)           (None, None, None, 256)   32768     \n",
            "_________________________________________________________________\n",
            "conv_pw_4_bn (BatchNormaliza (None, None, None, 256)   1024      \n",
            "_________________________________________________________________\n",
            "conv_pw_4_relu (ReLU)        (None, None, None, 256)   0         \n",
            "_________________________________________________________________\n",
            "conv_dw_5 (DepthwiseConv2D)  (None, None, None, 256)   2304      \n",
            "_________________________________________________________________\n",
            "conv_dw_5_bn (BatchNormaliza (None, None, None, 256)   1024      \n",
            "_________________________________________________________________\n",
            "conv_dw_5_relu (ReLU)        (None, None, None, 256)   0         \n",
            "_________________________________________________________________\n",
            "conv_pw_5 (Conv2D)           (None, None, None, 256)   65536     \n",
            "_________________________________________________________________\n",
            "conv_pw_5_bn (BatchNormaliza (None, None, None, 256)   1024      \n",
            "_________________________________________________________________\n",
            "conv_pw_5_relu (ReLU)        (None, None, None, 256)   0         \n",
            "_________________________________________________________________\n",
            "conv_pad_6 (ZeroPadding2D)   (None, None, None, 256)   0         \n",
            "_________________________________________________________________\n",
            "conv_dw_6 (DepthwiseConv2D)  (None, None, None, 256)   2304      \n",
            "_________________________________________________________________\n",
            "conv_dw_6_bn (BatchNormaliza (None, None, None, 256)   1024      \n",
            "_________________________________________________________________\n",
            "conv_dw_6_relu (ReLU)        (None, None, None, 256)   0         \n",
            "_________________________________________________________________\n",
            "conv_pw_6 (Conv2D)           (None, None, None, 512)   131072    \n",
            "_________________________________________________________________\n",
            "conv_pw_6_bn (BatchNormaliza (None, None, None, 512)   2048      \n",
            "_________________________________________________________________\n",
            "conv_pw_6_relu (ReLU)        (None, None, None, 512)   0         \n",
            "_________________________________________________________________\n",
            "conv_dw_7 (DepthwiseConv2D)  (None, None, None, 512)   4608      \n",
            "_________________________________________________________________\n",
            "conv_dw_7_bn (BatchNormaliza (None, None, None, 512)   2048      \n",
            "_________________________________________________________________\n",
            "conv_dw_7_relu (ReLU)        (None, None, None, 512)   0         \n",
            "_________________________________________________________________\n",
            "conv_pw_7 (Conv2D)           (None, None, None, 512)   262144    \n",
            "_________________________________________________________________\n",
            "conv_pw_7_bn (BatchNormaliza (None, None, None, 512)   2048      \n",
            "_________________________________________________________________\n",
            "conv_pw_7_relu (ReLU)        (None, None, None, 512)   0         \n",
            "_________________________________________________________________\n",
            "conv_dw_8 (DepthwiseConv2D)  (None, None, None, 512)   4608      \n",
            "_________________________________________________________________\n",
            "conv_dw_8_bn (BatchNormaliza (None, None, None, 512)   2048      \n",
            "_________________________________________________________________\n",
            "conv_dw_8_relu (ReLU)        (None, None, None, 512)   0         \n",
            "_________________________________________________________________\n",
            "conv_pw_8 (Conv2D)           (None, None, None, 512)   262144    \n",
            "_________________________________________________________________\n",
            "conv_pw_8_bn (BatchNormaliza (None, None, None, 512)   2048      \n",
            "_________________________________________________________________\n",
            "conv_pw_8_relu (ReLU)        (None, None, None, 512)   0         \n",
            "_________________________________________________________________\n",
            "conv_dw_9 (DepthwiseConv2D)  (None, None, None, 512)   4608      \n",
            "_________________________________________________________________\n",
            "conv_dw_9_bn (BatchNormaliza (None, None, None, 512)   2048      \n",
            "_________________________________________________________________\n",
            "conv_dw_9_relu (ReLU)        (None, None, None, 512)   0         \n",
            "_________________________________________________________________\n",
            "conv_pw_9 (Conv2D)           (None, None, None, 512)   262144    \n",
            "_________________________________________________________________\n",
            "conv_pw_9_bn (BatchNormaliza (None, None, None, 512)   2048      \n",
            "_________________________________________________________________\n",
            "conv_pw_9_relu (ReLU)        (None, None, None, 512)   0         \n",
            "_________________________________________________________________\n",
            "conv_dw_10 (DepthwiseConv2D) (None, None, None, 512)   4608      \n",
            "_________________________________________________________________\n",
            "conv_dw_10_bn (BatchNormaliz (None, None, None, 512)   2048      \n",
            "_________________________________________________________________\n",
            "conv_dw_10_relu (ReLU)       (None, None, None, 512)   0         \n",
            "_________________________________________________________________\n",
            "conv_pw_10 (Conv2D)          (None, None, None, 512)   262144    \n",
            "_________________________________________________________________\n",
            "conv_pw_10_bn (BatchNormaliz (None, None, None, 512)   2048      \n",
            "_________________________________________________________________\n",
            "conv_pw_10_relu (ReLU)       (None, None, None, 512)   0         \n",
            "_________________________________________________________________\n",
            "conv_dw_11 (DepthwiseConv2D) (None, None, None, 512)   4608      \n",
            "_________________________________________________________________\n",
            "conv_dw_11_bn (BatchNormaliz (None, None, None, 512)   2048      \n",
            "_________________________________________________________________\n",
            "conv_dw_11_relu (ReLU)       (None, None, None, 512)   0         \n",
            "_________________________________________________________________\n",
            "conv_pw_11 (Conv2D)          (None, None, None, 512)   262144    \n",
            "_________________________________________________________________\n",
            "conv_pw_11_bn (BatchNormaliz (None, None, None, 512)   2048      \n",
            "_________________________________________________________________\n",
            "conv_pw_11_relu (ReLU)       (None, None, None, 512)   0         \n",
            "_________________________________________________________________\n",
            "conv_pad_12 (ZeroPadding2D)  (None, None, None, 512)   0         \n",
            "_________________________________________________________________\n",
            "conv_dw_12 (DepthwiseConv2D) (None, None, None, 512)   4608      \n",
            "_________________________________________________________________\n",
            "conv_dw_12_bn (BatchNormaliz (None, None, None, 512)   2048      \n",
            "_________________________________________________________________\n",
            "conv_dw_12_relu (ReLU)       (None, None, None, 512)   0         \n",
            "_________________________________________________________________\n",
            "conv_pw_12 (Conv2D)          (None, None, None, 1024)  524288    \n",
            "_________________________________________________________________\n",
            "conv_pw_12_bn (BatchNormaliz (None, None, None, 1024)  4096      \n",
            "_________________________________________________________________\n",
            "conv_pw_12_relu (ReLU)       (None, None, None, 1024)  0         \n",
            "_________________________________________________________________\n",
            "conv_dw_13 (DepthwiseConv2D) (None, None, None, 1024)  9216      \n",
            "_________________________________________________________________\n",
            "conv_dw_13_bn (BatchNormaliz (None, None, None, 1024)  4096      \n",
            "_________________________________________________________________\n",
            "conv_dw_13_relu (ReLU)       (None, None, None, 1024)  0         \n",
            "_________________________________________________________________\n",
            "conv_pw_13 (Conv2D)          (None, None, None, 1024)  1048576   \n",
            "_________________________________________________________________\n",
            "conv_pw_13_bn (BatchNormaliz (None, None, None, 1024)  4096      \n",
            "_________________________________________________________________\n",
            "conv_pw_13_relu (ReLU)       (None, None, None, 1024)  0         \n",
            "_________________________________________________________________\n",
            "global_average_pooling2d_1 ( (None, 1024)              0         \n",
            "_________________________________________________________________\n",
            "dense_1 (Dense)              (None, 1024)              1049600   \n",
            "_________________________________________________________________\n",
            "dense_2 (Dense)              (None, 512)               524800    \n",
            "_________________________________________________________________\n",
            "dense_3 (Dense)              (None, 5)                 2565      \n",
            "=================================================================\n",
            "Total params: 4,805,829\n",
            "Trainable params: 1,576,965\n",
            "Non-trainable params: 3,228,864\n",
            "_________________________________________________________________\n"
          ],
          "name": "stdout"
        }
      ]
    },
    {
      "cell_type": "code",
      "metadata": {
        "id": "xz-BYvUdHhWi",
        "colab_type": "code",
        "outputId": "8f23826c-1e68-4caa-8816-126506f2bbec",
        "colab": {
          "base_uri": "https://localhost:8080/",
          "height": 34
        }
      },
      "source": [
        "len(model.layers)"
      ],
      "execution_count": 66,
      "outputs": [
        {
          "output_type": "execute_result",
          "data": {
            "text/plain": [
              "91"
            ]
          },
          "metadata": {
            "tags": []
          },
          "execution_count": 66
        }
      ]
    },
    {
      "cell_type": "code",
      "metadata": {
        "id": "ZbAvou9jHnj1",
        "colab_type": "code",
        "outputId": "2653515b-84a0-4653-ecc6-d22c2b2c007c",
        "colab": {
          "base_uri": "https://localhost:8080/",
          "height": 34
        }
      },
      "source": [
        "train_datagen=ImageDataGenerator(preprocessing_function=preprocess_input) #included in our dependencies\n",
        "\n",
        "train_generator=train_datagen.flow_from_directory('./train/', # this is where you specify the path to the main data folder\n",
        "                                                 target_size=(224,224),\n",
        "                                                 color_mode='rgb',\n",
        "                                                 batch_size=64,\n",
        "                                                 class_mode='categorical',\n",
        "                                                 shuffle=True)"
      ],
      "execution_count": 16,
      "outputs": [
        {
          "output_type": "stream",
          "text": [
            "Found 4376 images belonging to 5 classes.\n"
          ],
          "name": "stdout"
        }
      ]
    },
    {
      "cell_type": "code",
      "metadata": {
        "id": "fVoRq0o9cA_G",
        "colab_type": "code",
        "colab": {
          "base_uri": "https://localhost:8080/",
          "height": 34
        },
        "outputId": "7b5a8c49-1430-4c49-b3c8-233b7837fa9f"
      },
      "source": [
        "validation_datagen=ImageDataGenerator(preprocessing_function=preprocess_input) #included in our dependencies\n",
        "\n",
        "validation_generator=validation_datagen.flow_from_directory('./validation/', # this is where you specify the path to the main data folder\n",
        "                                                 target_size=(224,224),\n",
        "                                                 color_mode='rgb',\n",
        "                                                 batch_size=64,\n",
        "                                                 class_mode='categorical',\n",
        "                                                 shuffle=True)"
      ],
      "execution_count": 17,
      "outputs": [
        {
          "output_type": "stream",
          "text": [
            "Found 1876 images belonging to 5 classes.\n"
          ],
          "name": "stdout"
        }
      ]
    },
    {
      "cell_type": "code",
      "metadata": {
        "id": "wYBn3LsxH3l_",
        "colab_type": "code",
        "colab": {}
      },
      "source": [
        "model.compile(optimizer='Adam',loss='categorical_crossentropy',metrics=['accuracy'])\n",
        "# Adam optimizer\n",
        "# loss function will be categorical cross entropy\n",
        "# evaluation metric will be accuracy\n",
        "\n",
        "step_size_train=train_generator.n//train_generator.batch_size\n",
        "step_size_validation=validation_generator.n//validation_generator.batch_size"
      ],
      "execution_count": 0,
      "outputs": []
    },
    {
      "cell_type": "code",
      "metadata": {
        "id": "4d6UZ4uAdPKv",
        "colab_type": "code",
        "colab": {
          "base_uri": "https://localhost:8080/",
          "height": 1095
        },
        "outputId": "d8b5ec37-1b4c-46fc-c983-43a301993a49"
      },
      "source": [
        "history = model.fit_generator(generator=train_generator,\n",
        "                   steps_per_epoch=step_size_train,\n",
        "                    validation_data=validation_generator,\n",
        "                    validation_steps = step_size_validation,\n",
        "                   epochs=30)"
      ],
      "execution_count": 22,
      "outputs": [
        {
          "output_type": "stream",
          "text": [
            "WARNING:tensorflow:From /usr/local/lib/python3.6/dist-packages/tensorflow/python/ops/math_ops.py:3066: to_int32 (from tensorflow.python.ops.math_ops) is deprecated and will be removed in a future version.\n",
            "Instructions for updating:\n",
            "Use tf.cast instead.\n",
            "Epoch 1/30\n",
            "68/68 [==============================] - 13s 185ms/step - loss: 0.9450 - acc: 0.6907 - val_loss: 0.5293 - val_acc: 0.7877\n",
            "Epoch 2/30\n",
            "68/68 [==============================] - 10s 147ms/step - loss: 0.3665 - acc: 0.8656 - val_loss: 0.6243 - val_acc: 0.7506\n",
            "Epoch 3/30\n",
            "68/68 [==============================] - 10s 147ms/step - loss: 0.2904 - acc: 0.8913 - val_loss: 0.4851 - val_acc: 0.8118\n",
            "Epoch 4/30\n",
            "68/68 [==============================] - 9s 139ms/step - loss: 0.2363 - acc: 0.9086 - val_loss: 0.8687 - val_acc: 0.7070\n",
            "Epoch 5/30\n",
            "68/68 [==============================] - 10s 140ms/step - loss: 0.1905 - acc: 0.9242 - val_loss: 0.5890 - val_acc: 0.7958\n",
            "Epoch 6/30\n",
            "68/68 [==============================] - 10s 142ms/step - loss: 0.1892 - acc: 0.9289 - val_loss: 0.6584 - val_acc: 0.7699\n",
            "Epoch 7/30\n",
            "68/68 [==============================] - 10s 143ms/step - loss: 0.1455 - acc: 0.9454 - val_loss: 0.6556 - val_acc: 0.8013\n",
            "Epoch 8/30\n",
            "68/68 [==============================] - 10s 142ms/step - loss: 0.1052 - acc: 0.9595 - val_loss: 0.6740 - val_acc: 0.8013\n",
            "Epoch 9/30\n",
            "68/68 [==============================] - 10s 142ms/step - loss: 0.1035 - acc: 0.9608 - val_loss: 0.7579 - val_acc: 0.7748\n",
            "Epoch 10/30\n",
            "68/68 [==============================] - 10s 142ms/step - loss: 0.0847 - acc: 0.9694 - val_loss: 0.7580 - val_acc: 0.8057\n",
            "Epoch 11/30\n",
            "68/68 [==============================] - 10s 141ms/step - loss: 0.0505 - acc: 0.9821 - val_loss: 0.4882 - val_acc: 0.8549\n",
            "Epoch 12/30\n",
            "68/68 [==============================] - 10s 141ms/step - loss: 0.0364 - acc: 0.9858 - val_loss: 1.1932 - val_acc: 0.7677\n",
            "Epoch 13/30\n",
            "68/68 [==============================] - 10s 140ms/step - loss: 0.0392 - acc: 0.9874 - val_loss: 0.8179 - val_acc: 0.8212\n",
            "Epoch 14/30\n",
            "68/68 [==============================] - 10s 143ms/step - loss: 0.0285 - acc: 0.9895 - val_loss: 0.7175 - val_acc: 0.8079\n",
            "Epoch 15/30\n",
            "68/68 [==============================] - 10s 140ms/step - loss: 0.0649 - acc: 0.9760 - val_loss: 0.9324 - val_acc: 0.8019\n",
            "Epoch 16/30\n",
            "68/68 [==============================] - 10s 143ms/step - loss: 0.0410 - acc: 0.9858 - val_loss: 0.6192 - val_acc: 0.8615\n",
            "Epoch 17/30\n",
            "68/68 [==============================] - 10s 140ms/step - loss: 0.0336 - acc: 0.9878 - val_loss: 0.9298 - val_acc: 0.8173\n",
            "Epoch 18/30\n",
            "68/68 [==============================] - 10s 140ms/step - loss: 0.0388 - acc: 0.9861 - val_loss: 1.3261 - val_acc: 0.7577\n",
            "Epoch 19/30\n",
            "68/68 [==============================] - 10s 140ms/step - loss: 0.0509 - acc: 0.9820 - val_loss: 1.2118 - val_acc: 0.7605\n",
            "Epoch 20/30\n",
            "68/68 [==============================] - 10s 143ms/step - loss: 0.0429 - acc: 0.9842 - val_loss: 0.8262 - val_acc: 0.8206\n",
            "Epoch 21/30\n",
            "68/68 [==============================] - 10s 141ms/step - loss: 0.0498 - acc: 0.9815 - val_loss: 0.9686 - val_acc: 0.7809\n",
            "Epoch 22/30\n",
            "68/68 [==============================] - 10s 141ms/step - loss: 0.0313 - acc: 0.9870 - val_loss: 0.8103 - val_acc: 0.8256\n",
            "Epoch 23/30\n",
            "68/68 [==============================] - 10s 141ms/step - loss: 0.0348 - acc: 0.9865 - val_loss: 0.7652 - val_acc: 0.8416\n",
            "Epoch 24/30\n",
            "68/68 [==============================] - 10s 142ms/step - loss: 0.0910 - acc: 0.9674 - val_loss: 0.6967 - val_acc: 0.8333\n",
            "Epoch 25/30\n",
            "68/68 [==============================] - 10s 141ms/step - loss: 0.0153 - acc: 0.9959 - val_loss: 1.4589 - val_acc: 0.7533\n",
            "Epoch 26/30\n",
            "68/68 [==============================] - 10s 140ms/step - loss: 0.0124 - acc: 0.9961 - val_loss: 1.1830 - val_acc: 0.7925\n",
            "Epoch 27/30\n",
            "68/68 [==============================] - 10s 143ms/step - loss: 0.0215 - acc: 0.9917 - val_loss: 0.8954 - val_acc: 0.8179\n",
            "Epoch 28/30\n",
            "68/68 [==============================] - 10s 140ms/step - loss: 0.0319 - acc: 0.9884 - val_loss: 1.1578 - val_acc: 0.7809\n",
            "Epoch 29/30\n",
            "68/68 [==============================] - 10s 141ms/step - loss: 0.0269 - acc: 0.9910 - val_loss: 1.6961 - val_acc: 0.7401\n",
            "Epoch 30/30\n",
            "68/68 [==============================] - 10s 140ms/step - loss: 0.0167 - acc: 0.9940 - val_loss: 0.8579 - val_acc: 0.8400\n"
          ],
          "name": "stdout"
        }
      ]
    },
    {
      "cell_type": "code",
      "metadata": {
        "id": "MyAJzeuUVtFX",
        "colab_type": "code",
        "colab": {}
      },
      "source": [
        "#filenames = test_generator.filenames\n",
        "#nb_samples = len(filenames)\n",
        "\n",
        "#predict = model.predict_generator(test_generator,steps = nb_samples)"
      ],
      "execution_count": 0,
      "outputs": []
    },
    {
      "cell_type": "code",
      "metadata": {
        "id": "trRK7zy8gTqQ",
        "colab_type": "code",
        "colab": {
          "base_uri": "https://localhost:8080/",
          "height": 286
        },
        "outputId": "4f387989-f803-457a-ba11-937de97eab95"
      },
      "source": [
        "plt.plot(history.history['acc'])\n",
        "plt.plot(history.history['val_acc'])"
      ],
      "execution_count": 23,
      "outputs": [
        {
          "output_type": "execute_result",
          "data": {
            "text/plain": [
              "[<matplotlib.lines.Line2D at 0x7fbc00d05908>]"
            ]
          },
          "metadata": {
            "tags": []
          },
          "execution_count": 23
        },
        {
          "output_type": "display_data",
          "data": {
            "image/png": "[encoded data removed]",
            "text/plain": [
              "<Figure size 432x288 with 1 Axes>"
            ]
          },
          "metadata": {
            "tags": []
          }
        }
      ]
    },
    {
      "cell_type": "code",
      "metadata": {
        "id": "8Wfh7Z7liTtK",
        "colab_type": "code",
        "colab": {
          "base_uri": "https://localhost:8080/",
          "height": 286
        },
        "outputId": "a94a7b14-4a0f-4fe8-96b1-9fca5118f07a"
      },
      "source": [
        "plt.plot(history.history['loss'])\n",
        "plt.plot(history.history['val_loss'])"
      ],
      "execution_count": 24,
      "outputs": [
        {
          "output_type": "execute_result",
          "data": {
            "text/plain": [
              "[<matplotlib.lines.Line2D at 0x7fbc00c3d7b8>]"
            ]
          },
          "metadata": {
            "tags": []
          },
          "execution_count": 24
        },
        {
          "output_type": "display_data",
          "data": {
            "image/png": "[encoded data removed]",
            "text/plain": [
              "<Figure size 432x288 with 1 Axes>"
            ]
          },
          "metadata": {
            "tags": []
          }
        }
      ]
    },
    {
      "cell_type": "code",
      "metadata": {
        "id": "O1UyJaKPiZ2-",
        "colab_type": "code",
        "colab": {
          "base_uri": "https://localhost:8080/",
          "height": 34
        },
        "outputId": "ab19aafb-57e4-4391-c473-f15096330b20"
      },
      "source": [
        "nb_samples"
      ],
      "execution_count": 56,
      "outputs": [
        {
          "output_type": "execute_result",
          "data": {
            "text/plain": [
              "1876"
            ]
          },
          "metadata": {
            "tags": []
          },
          "execution_count": 56
        }
      ]
    },
    {
      "cell_type": "markdown",
      "metadata": {
        "id": "EHYwB4wna4Dt",
        "colab_type": "text"
      },
      "source": [
        "# Getting Test Data from Analytics Vidhya"
      ]
    },
    {
      "cell_type": "code",
      "metadata": {
        "id": "jCQQHwRJidb-",
        "colab_type": "code",
        "colab": {}
      },
      "source": [
        "# Download a file based on its file ID.\n",
        "#\n",
        "# A file ID looks like: laggVyWshwcyP6kEI-y_W3P8D26sz\n",
        "file_id = '1B2QDCOTjkvMJ0O5xi37VQR6EecSeOWU2' #File ID for the required Trainingdata\n",
        "downloaded = drive.CreateFile({'id': file_id})\n",
        "downloaded.GetContentFile('test-ship classification.zip')"
      ],
      "execution_count": 0,
      "outputs": []
    },
    {
      "cell_type": "code",
      "metadata": {
        "id": "0XaVlTYTijLB",
        "colab_type": "code",
        "colab": {
          "base_uri": "https://localhost:8080/",
          "height": 354
        },
        "outputId": "92ee99cd-57ca-4b5e-e0c0-222717073739"
      },
      "source": [
        "import zipfile\n",
        "zip_ref = zipfile.ZipFile('test-ship classification.zip', 'r')\n",
        "zip_ref.extractall('test_data')\n",
        "zip_ref.close()"
      ],
      "execution_count": 29,
      "outputs": [
        {
          "output_type": "error",
          "ename": "BadZipFile",
          "evalue": "ignored",
          "traceback": [
            "\u001b[0;31m---------------------------------------------------------------------------\u001b[0m",
            "\u001b[0;31mBadZipFile\u001b[0m                                Traceback (most recent call last)",
            "\u001b[0;32m<ipython-input-29-eb83a5771281>\u001b[0m in \u001b[0;36m<module>\u001b[0;34m()\u001b[0m\n\u001b[1;32m      1\u001b[0m \u001b[0;32mimport\u001b[0m \u001b[0mzipfile\u001b[0m\u001b[0;34m\u001b[0m\u001b[0;34m\u001b[0m\u001b[0m\n\u001b[0;32m----> 2\u001b[0;31m \u001b[0mzip_ref\u001b[0m \u001b[0;34m=\u001b[0m \u001b[0mzipfile\u001b[0m\u001b[0;34m.\u001b[0m\u001b[0mZipFile\u001b[0m\u001b[0;34m(\u001b[0m\u001b[0;34m'test-ship classification.zip'\u001b[0m\u001b[0;34m,\u001b[0m \u001b[0;34m'r'\u001b[0m\u001b[0;34m)\u001b[0m\u001b[0;34m\u001b[0m\u001b[0;34m\u001b[0m\u001b[0m\n\u001b[0m\u001b[1;32m      3\u001b[0m \u001b[0mzip_ref\u001b[0m\u001b[0;34m.\u001b[0m\u001b[0mextractall\u001b[0m\u001b[0;34m(\u001b[0m\u001b[0;34m'test_data'\u001b[0m\u001b[0;34m)\u001b[0m\u001b[0;34m\u001b[0m\u001b[0;34m\u001b[0m\u001b[0m\n\u001b[1;32m      4\u001b[0m \u001b[0mzip_ref\u001b[0m\u001b[0;34m.\u001b[0m\u001b[0mclose\u001b[0m\u001b[0;34m(\u001b[0m\u001b[0;34m)\u001b[0m\u001b[0;34m\u001b[0m\u001b[0;34m\u001b[0m\u001b[0m\n",
            "\u001b[0;32m/usr/lib/python3.6/zipfile.py\u001b[0m in \u001b[0;36m__init__\u001b[0;34m(self, file, mode, compression, allowZip64)\u001b[0m\n\u001b[1;32m   1129\u001b[0m         \u001b[0;32mtry\u001b[0m\u001b[0;34m:\u001b[0m\u001b[0;34m\u001b[0m\u001b[0;34m\u001b[0m\u001b[0m\n\u001b[1;32m   1130\u001b[0m             \u001b[0;32mif\u001b[0m \u001b[0mmode\u001b[0m \u001b[0;34m==\u001b[0m \u001b[0;34m'r'\u001b[0m\u001b[0;34m:\u001b[0m\u001b[0;34m\u001b[0m\u001b[0;34m\u001b[0m\u001b[0m\n\u001b[0;32m-> 1131\u001b[0;31m                 \u001b[0mself\u001b[0m\u001b[0;34m.\u001b[0m\u001b[0m_RealGetContents\u001b[0m\u001b[0;34m(\u001b[0m\u001b[0;34m)\u001b[0m\u001b[0;34m\u001b[0m\u001b[0;34m\u001b[0m\u001b[0m\n\u001b[0m\u001b[1;32m   1132\u001b[0m             \u001b[0;32melif\u001b[0m \u001b[0mmode\u001b[0m \u001b[0;32min\u001b[0m \u001b[0;34m(\u001b[0m\u001b[0;34m'w'\u001b[0m\u001b[0;34m,\u001b[0m \u001b[0;34m'x'\u001b[0m\u001b[0;34m)\u001b[0m\u001b[0;34m:\u001b[0m\u001b[0;34m\u001b[0m\u001b[0;34m\u001b[0m\u001b[0m\n\u001b[1;32m   1133\u001b[0m                 \u001b[0;31m# set the modified flag so central directory gets written\u001b[0m\u001b[0;34m\u001b[0m\u001b[0;34m\u001b[0m\u001b[0;34m\u001b[0m\u001b[0m\n",
            "\u001b[0;32m/usr/lib/python3.6/zipfile.py\u001b[0m in \u001b[0;36m_RealGetContents\u001b[0;34m(self)\u001b[0m\n\u001b[1;32m   1196\u001b[0m             \u001b[0;32mraise\u001b[0m \u001b[0mBadZipFile\u001b[0m\u001b[0;34m(\u001b[0m\u001b[0;34m\"File is not a zip file\"\u001b[0m\u001b[0;34m)\u001b[0m\u001b[0;34m\u001b[0m\u001b[0;34m\u001b[0m\u001b[0m\n\u001b[1;32m   1197\u001b[0m         \u001b[0;32mif\u001b[0m \u001b[0;32mnot\u001b[0m \u001b[0mendrec\u001b[0m\u001b[0;34m:\u001b[0m\u001b[0;34m\u001b[0m\u001b[0;34m\u001b[0m\u001b[0m\n\u001b[0;32m-> 1198\u001b[0;31m             \u001b[0;32mraise\u001b[0m \u001b[0mBadZipFile\u001b[0m\u001b[0;34m(\u001b[0m\u001b[0;34m\"File is not a zip file\"\u001b[0m\u001b[0;34m)\u001b[0m\u001b[0;34m\u001b[0m\u001b[0;34m\u001b[0m\u001b[0m\n\u001b[0m\u001b[1;32m   1199\u001b[0m         \u001b[0;32mif\u001b[0m \u001b[0mself\u001b[0m\u001b[0;34m.\u001b[0m\u001b[0mdebug\u001b[0m \u001b[0;34m>\u001b[0m \u001b[0;36m1\u001b[0m\u001b[0;34m:\u001b[0m\u001b[0;34m\u001b[0m\u001b[0;34m\u001b[0m\u001b[0m\n\u001b[1;32m   1200\u001b[0m             \u001b[0mprint\u001b[0m\u001b[0;34m(\u001b[0m\u001b[0mendrec\u001b[0m\u001b[0;34m)\u001b[0m\u001b[0;34m\u001b[0m\u001b[0;34m\u001b[0m\u001b[0m\n",
            "\u001b[0;31mBadZipFile\u001b[0m: File is not a zip file"
          ]
        }
      ]
    },
    {
      "cell_type": "code",
      "metadata": {
        "id": "9K2r_s9-cZoe",
        "colab_type": "code",
        "colab": {}
      },
      "source": [
        "os.rename('./test-ship classification.zip','./test.csv')"
      ],
      "execution_count": 0,
      "outputs": []
    },
    {
      "cell_type": "code",
      "metadata": {
        "id": "qmZOI3t6cmNJ",
        "colab_type": "code",
        "colab": {
          "base_uri": "https://localhost:8080/",
          "height": 1882
        },
        "outputId": "a3762b62-f46f-412f-9334-0a853e03bea5"
      },
      "source": [
        "pd.read_csv('./test.csv')"
      ],
      "execution_count": 31,
      "outputs": [
        {
          "output_type": "execute_result",
          "data": {
            "text/html": [
              "<div>\n",
              "<style scoped>\n",
              "    .dataframe tbody tr th:only-of-type {\n",
              "        vertical-align: middle;\n",
              "    }\n",
              "\n",
              "    .dataframe tbody tr th {\n",
              "        vertical-align: top;\n",
              "    }\n",
              "\n",
              "    .dataframe thead th {\n",
              "        text-align: right;\n",
              "    }\n",
              "</style>\n",
              "<table border=\"1\" class=\"dataframe\">\n",
              "  <thead>\n",
              "    <tr style=\"text-align: right;\">\n",
              "      <th></th>\n",
              "      <th>image</th>\n",
              "    </tr>\n",
              "  </thead>\n",
              "  <tbody>\n",
              "    <tr>\n",
              "      <th>0</th>\n",
              "      <td>1007700.jpg</td>\n",
              "    </tr>\n",
              "    <tr>\n",
              "      <th>1</th>\n",
              "      <td>1011369.jpg</td>\n",
              "    </tr>\n",
              "    <tr>\n",
              "      <th>2</th>\n",
              "      <td>1051155.jpg</td>\n",
              "    </tr>\n",
              "    <tr>\n",
              "      <th>3</th>\n",
              "      <td>1062001.jpg</td>\n",
              "    </tr>\n",
              "    <tr>\n",
              "      <th>4</th>\n",
              "      <td>1069397.jpg</td>\n",
              "    </tr>\n",
              "    <tr>\n",
              "      <th>5</th>\n",
              "      <td>1072861.jpg</td>\n",
              "    </tr>\n",
              "    <tr>\n",
              "      <th>6</th>\n",
              "      <td>1097264.jpg</td>\n",
              "    </tr>\n",
              "    <tr>\n",
              "      <th>7</th>\n",
              "      <td>1098763.jpg</td>\n",
              "    </tr>\n",
              "    <tr>\n",
              "      <th>8</th>\n",
              "      <td>1098766.jpg</td>\n",
              "    </tr>\n",
              "    <tr>\n",
              "      <th>9</th>\n",
              "      <td>1101145.jpg</td>\n",
              "    </tr>\n",
              "    <tr>\n",
              "      <th>10</th>\n",
              "      <td>1114371.jpg</td>\n",
              "    </tr>\n",
              "    <tr>\n",
              "      <th>11</th>\n",
              "      <td>1114781.jpg</td>\n",
              "    </tr>\n",
              "    <tr>\n",
              "      <th>12</th>\n",
              "      <td>1115492.jpg</td>\n",
              "    </tr>\n",
              "    <tr>\n",
              "      <th>13</th>\n",
              "      <td>1121306.jpg</td>\n",
              "    </tr>\n",
              "    <tr>\n",
              "      <th>14</th>\n",
              "      <td>1123736.jpg</td>\n",
              "    </tr>\n",
              "    <tr>\n",
              "      <th>15</th>\n",
              "      <td>1124946.jpg</td>\n",
              "    </tr>\n",
              "    <tr>\n",
              "      <th>16</th>\n",
              "      <td>1125700.jpg</td>\n",
              "    </tr>\n",
              "    <tr>\n",
              "      <th>17</th>\n",
              "      <td>1127236.jpg</td>\n",
              "    </tr>\n",
              "    <tr>\n",
              "      <th>18</th>\n",
              "      <td>1127336.jpg</td>\n",
              "    </tr>\n",
              "    <tr>\n",
              "      <th>19</th>\n",
              "      <td>1130300.jpg</td>\n",
              "    </tr>\n",
              "    <tr>\n",
              "      <th>20</th>\n",
              "      <td>1131990.jpg</td>\n",
              "    </tr>\n",
              "    <tr>\n",
              "      <th>21</th>\n",
              "      <td>1141996.jpg</td>\n",
              "    </tr>\n",
              "    <tr>\n",
              "      <th>22</th>\n",
              "      <td>1145082.jpg</td>\n",
              "    </tr>\n",
              "    <tr>\n",
              "      <th>23</th>\n",
              "      <td>1153400.jpg</td>\n",
              "    </tr>\n",
              "    <tr>\n",
              "      <th>24</th>\n",
              "      <td>1162763.jpg</td>\n",
              "    </tr>\n",
              "    <tr>\n",
              "      <th>25</th>\n",
              "      <td>1162764.jpg</td>\n",
              "    </tr>\n",
              "    <tr>\n",
              "      <th>26</th>\n",
              "      <td>1162765.jpg</td>\n",
              "    </tr>\n",
              "    <tr>\n",
              "      <th>27</th>\n",
              "      <td>1163874.jpg</td>\n",
              "    </tr>\n",
              "    <tr>\n",
              "      <th>28</th>\n",
              "      <td>1174623.jpg</td>\n",
              "    </tr>\n",
              "    <tr>\n",
              "      <th>29</th>\n",
              "      <td>1185778.jpg</td>\n",
              "    </tr>\n",
              "    <tr>\n",
              "      <th>...</th>\n",
              "      <td>...</td>\n",
              "    </tr>\n",
              "    <tr>\n",
              "      <th>2650</th>\n",
              "      <td>792101.jpg</td>\n",
              "    </tr>\n",
              "    <tr>\n",
              "      <th>2651</th>\n",
              "      <td>807046.jpg</td>\n",
              "    </tr>\n",
              "    <tr>\n",
              "      <th>2652</th>\n",
              "      <td>828391.jpg</td>\n",
              "    </tr>\n",
              "    <tr>\n",
              "      <th>2653</th>\n",
              "      <td>832478.jpg</td>\n",
              "    </tr>\n",
              "    <tr>\n",
              "      <th>2654</th>\n",
              "      <td>834991.jpg</td>\n",
              "    </tr>\n",
              "    <tr>\n",
              "      <th>2655</th>\n",
              "      <td>834998.jpg</td>\n",
              "    </tr>\n",
              "    <tr>\n",
              "      <th>2656</th>\n",
              "      <td>864096.jpg</td>\n",
              "    </tr>\n",
              "    <tr>\n",
              "      <th>2657</th>\n",
              "      <td>881579.jpg</td>\n",
              "    </tr>\n",
              "    <tr>\n",
              "      <th>2658</th>\n",
              "      <td>905067.jpg</td>\n",
              "    </tr>\n",
              "    <tr>\n",
              "      <th>2659</th>\n",
              "      <td>905069.jpg</td>\n",
              "    </tr>\n",
              "    <tr>\n",
              "      <th>2660</th>\n",
              "      <td>913261.jpg</td>\n",
              "    </tr>\n",
              "    <tr>\n",
              "      <th>2661</th>\n",
              "      <td>914029.jpg</td>\n",
              "    </tr>\n",
              "    <tr>\n",
              "      <th>2662</th>\n",
              "      <td>921004.jpg</td>\n",
              "    </tr>\n",
              "    <tr>\n",
              "      <th>2663</th>\n",
              "      <td>928066.jpg</td>\n",
              "    </tr>\n",
              "    <tr>\n",
              "      <th>2664</th>\n",
              "      <td>928647.jpg</td>\n",
              "    </tr>\n",
              "    <tr>\n",
              "      <th>2665</th>\n",
              "      <td>929534.jpg</td>\n",
              "    </tr>\n",
              "    <tr>\n",
              "      <th>2666</th>\n",
              "      <td>930293.jpg</td>\n",
              "    </tr>\n",
              "    <tr>\n",
              "      <th>2667</th>\n",
              "      <td>937491.jpg</td>\n",
              "    </tr>\n",
              "    <tr>\n",
              "      <th>2668</th>\n",
              "      <td>943560.jpg</td>\n",
              "    </tr>\n",
              "    <tr>\n",
              "      <th>2669</th>\n",
              "      <td>944853.jpg</td>\n",
              "    </tr>\n",
              "    <tr>\n",
              "      <th>2670</th>\n",
              "      <td>948344.jpg</td>\n",
              "    </tr>\n",
              "    <tr>\n",
              "      <th>2671</th>\n",
              "      <td>949995.jpg</td>\n",
              "    </tr>\n",
              "    <tr>\n",
              "      <th>2672</th>\n",
              "      <td>949997.jpg</td>\n",
              "    </tr>\n",
              "    <tr>\n",
              "      <th>2673</th>\n",
              "      <td>949999.jpg</td>\n",
              "    </tr>\n",
              "    <tr>\n",
              "      <th>2674</th>\n",
              "      <td>950580.jpg</td>\n",
              "    </tr>\n",
              "    <tr>\n",
              "      <th>2675</th>\n",
              "      <td>950995.jpg</td>\n",
              "    </tr>\n",
              "    <tr>\n",
              "      <th>2676</th>\n",
              "      <td>951046.jpg</td>\n",
              "    </tr>\n",
              "    <tr>\n",
              "      <th>2677</th>\n",
              "      <td>951323.jpg</td>\n",
              "    </tr>\n",
              "    <tr>\n",
              "      <th>2678</th>\n",
              "      <td>952113.jpg</td>\n",
              "    </tr>\n",
              "    <tr>\n",
              "      <th>2679</th>\n",
              "      <td>953982.jpg</td>\n",
              "    </tr>\n",
              "  </tbody>\n",
              "</table>\n",
              "<p>2680 rows × 1 columns</p>\n",
              "</div>"
            ],
            "text/plain": [
              "            image\n",
              "0     1007700.jpg\n",
              "1     1011369.jpg\n",
              "2     1051155.jpg\n",
              "3     1062001.jpg\n",
              "4     1069397.jpg\n",
              "5     1072861.jpg\n",
              "6     1097264.jpg\n",
              "7     1098763.jpg\n",
              "8     1098766.jpg\n",
              "9     1101145.jpg\n",
              "10    1114371.jpg\n",
              "11    1114781.jpg\n",
              "12    1115492.jpg\n",
              "13    1121306.jpg\n",
              "14    1123736.jpg\n",
              "15    1124946.jpg\n",
              "16    1125700.jpg\n",
              "17    1127236.jpg\n",
              "18    1127336.jpg\n",
              "19    1130300.jpg\n",
              "20    1131990.jpg\n",
              "21    1141996.jpg\n",
              "22    1145082.jpg\n",
              "23    1153400.jpg\n",
              "24    1162763.jpg\n",
              "25    1162764.jpg\n",
              "26    1162765.jpg\n",
              "27    1163874.jpg\n",
              "28    1174623.jpg\n",
              "29    1185778.jpg\n",
              "...           ...\n",
              "2650   792101.jpg\n",
              "2651   807046.jpg\n",
              "2652   828391.jpg\n",
              "2653   832478.jpg\n",
              "2654   834991.jpg\n",
              "2655   834998.jpg\n",
              "2656   864096.jpg\n",
              "2657   881579.jpg\n",
              "2658   905067.jpg\n",
              "2659   905069.jpg\n",
              "2660   913261.jpg\n",
              "2661   914029.jpg\n",
              "2662   921004.jpg\n",
              "2663   928066.jpg\n",
              "2664   928647.jpg\n",
              "2665   929534.jpg\n",
              "2666   930293.jpg\n",
              "2667   937491.jpg\n",
              "2668   943560.jpg\n",
              "2669   944853.jpg\n",
              "2670   948344.jpg\n",
              "2671   949995.jpg\n",
              "2672   949997.jpg\n",
              "2673   949999.jpg\n",
              "2674   950580.jpg\n",
              "2675   950995.jpg\n",
              "2676   951046.jpg\n",
              "2677   951323.jpg\n",
              "2678   952113.jpg\n",
              "2679   953982.jpg\n",
              "\n",
              "[2680 rows x 1 columns]"
            ]
          },
          "metadata": {
            "tags": []
          },
          "execution_count": 31
        }
      ]
    },
    {
      "cell_type": "code",
      "metadata": {
        "id": "IzZWi4IbcskG",
        "colab_type": "code",
        "colab": {
          "base_uri": "https://localhost:8080/",
          "height": 34
        },
        "outputId": "ced887a8-2b27-40ab-9dc8-9f2334803fbc"
      },
      "source": [
        "len([name for name in os.listdir('./data/images/')])"
      ],
      "execution_count": 85,
      "outputs": [
        {
          "output_type": "execute_result",
          "data": {
            "text/plain": [
              "8932"
            ]
          },
          "metadata": {
            "tags": []
          },
          "execution_count": 85
        }
      ]
    },
    {
      "cell_type": "code",
      "metadata": {
        "id": "UZxp8vwheOUM",
        "colab_type": "code",
        "colab": {
          "base_uri": "https://localhost:8080/",
          "height": 34
        },
        "outputId": "67859f4e-764a-4460-8a58-d1ba8dcdfd45"
      },
      "source": [
        "8932-2680"
      ],
      "execution_count": 86,
      "outputs": [
        {
          "output_type": "execute_result",
          "data": {
            "text/plain": [
              "6252"
            ]
          },
          "metadata": {
            "tags": []
          },
          "execution_count": 86
        }
      ]
    },
    {
      "cell_type": "code",
      "metadata": {
        "id": "7ObyCYG0el4c",
        "colab_type": "code",
        "colab": {}
      },
      "source": [
        "shutil.rmtree('./test')"
      ],
      "execution_count": 0,
      "outputs": []
    },
    {
      "cell_type": "code",
      "metadata": {
        "id": "1mV9ndRwfEdK",
        "colab_type": "code",
        "colab": {
          "base_uri": "https://localhost:8080/",
          "height": 34
        },
        "outputId": "22de41c9-35ff-4e82-a1d3-42ef5c6e597b"
      },
      "source": [
        "Test_datagen=ImageDataGenerator(preprocessing_function=preprocess_input) #included in our dependencies\n",
        "\n",
        "Test_generator=Test_datagen.flow_from_directory('./data/', # this is where you specify the path to the main data folder\n",
        "                                                 target_size=(224,224),\n",
        "                                                 color_mode='rgb',\n",
        "                                                 batch_size=64,\n",
        "                                                 class_mode='categorical')"
      ],
      "execution_count": 33,
      "outputs": [
        {
          "output_type": "stream",
          "text": [
            "Found 2680 images belonging to 2 classes.\n"
          ],
          "name": "stdout"
        }
      ]
    },
    {
      "cell_type": "code",
      "metadata": {
        "id": "nKC-YA5Tf3KR",
        "colab_type": "code",
        "colab": {}
      },
      "source": [
        "shutil.rmtree('./data/__MACOSX/')"
      ],
      "execution_count": 0,
      "outputs": []
    },
    {
      "cell_type": "code",
      "metadata": {
        "id": "AJhfUK7KgPZQ",
        "colab_type": "code",
        "colab": {}
      },
      "source": [
        "filenames = Test_generator.filenames\n",
        "nb_samples = len(filenames)\n",
        "\n",
        "predict = model.predict_generator(Test_generator,steps = 42)"
      ],
      "execution_count": 0,
      "outputs": []
    },
    {
      "cell_type": "code",
      "metadata": {
        "id": "WziZxMleg_Hy",
        "colab_type": "code",
        "colab": {
          "base_uri": "https://localhost:8080/",
          "height": 34
        },
        "outputId": "24182471-01a3-49cd-faca-9398b2c7cc73"
      },
      "source": [
        "len(predict)"
      ],
      "execution_count": 35,
      "outputs": [
        {
          "output_type": "execute_result",
          "data": {
            "text/plain": [
              "2680"
            ]
          },
          "metadata": {
            "tags": []
          },
          "execution_count": 35
        }
      ]
    },
    {
      "cell_type": "code",
      "metadata": {
        "id": "FEVpd5Tfi_Jr",
        "colab_type": "code",
        "colab": {}
      },
      "source": [
        "ans = np.argmax(predict, axis=1)"
      ],
      "execution_count": 0,
      "outputs": []
    },
    {
      "cell_type": "code",
      "metadata": {
        "id": "tHk_tJCsjWp3",
        "colab_type": "code",
        "colab": {
          "base_uri": "https://localhost:8080/",
          "height": 162
        },
        "outputId": "5782846e-cde3-4548-82ba-e50c74fc320c"
      },
      "source": [
        "test_csv = pd.read_csv('./test.csv', index=False)"
      ],
      "execution_count": 39,
      "outputs": [
        {
          "output_type": "error",
          "ename": "TypeError",
          "evalue": "ignored",
          "traceback": [
            "\u001b[0;31m---------------------------------------------------------------------------\u001b[0m",
            "\u001b[0;31mTypeError\u001b[0m                                 Traceback (most recent call last)",
            "\u001b[0;32m<ipython-input-39-e88ae8f581d2>\u001b[0m in \u001b[0;36m<module>\u001b[0;34m()\u001b[0m\n\u001b[0;32m----> 1\u001b[0;31m \u001b[0mtest_csv\u001b[0m \u001b[0;34m=\u001b[0m \u001b[0mpd\u001b[0m\u001b[0;34m.\u001b[0m\u001b[0mread_csv\u001b[0m\u001b[0;34m(\u001b[0m\u001b[0;34m'./test.csv'\u001b[0m\u001b[0;34m,\u001b[0m \u001b[0mindex\u001b[0m\u001b[0;34m=\u001b[0m\u001b[0;32mFalse\u001b[0m\u001b[0;34m)\u001b[0m\u001b[0;34m\u001b[0m\u001b[0;34m\u001b[0m\u001b[0m\n\u001b[0m",
            "\u001b[0;31mTypeError\u001b[0m: parser_f() got an unexpected keyword argument 'index'"
          ]
        }
      ]
    },
    {
      "cell_type": "code",
      "metadata": {
        "id": "U1cRUufDpiNS",
        "colab_type": "code",
        "colab": {}
      },
      "source": [
        "test_csv['category'] = ans"
      ],
      "execution_count": 0,
      "outputs": []
    },
    {
      "cell_type": "code",
      "metadata": {
        "id": "h1crvC40yaVv",
        "colab_type": "code",
        "colab": {}
      },
      "source": [
        "test_csv.to_csv('submission.csv', index=False)"
      ],
      "execution_count": 0,
      "outputs": []
    },
    {
      "cell_type": "code",
      "metadata": {
        "id": "49jI3Mo52cHy",
        "colab_type": "code",
        "colab": {
          "base_uri": "https://localhost:8080/",
          "height": 195
        },
        "outputId": "426d6a2e-eb5b-412c-de1c-cb08aa28e9b5"
      },
      "source": [
        "test_csv.head()"
      ],
      "execution_count": 40,
      "outputs": [
        {
          "output_type": "execute_result",
          "data": {
            "text/html": [
              "<div>\n",
              "<style scoped>\n",
              "    .dataframe tbody tr th:only-of-type {\n",
              "        vertical-align: middle;\n",
              "    }\n",
              "\n",
              "    .dataframe tbody tr th {\n",
              "        vertical-align: top;\n",
              "    }\n",
              "\n",
              "    .dataframe thead th {\n",
              "        text-align: right;\n",
              "    }\n",
              "</style>\n",
              "<table border=\"1\" class=\"dataframe\">\n",
              "  <thead>\n",
              "    <tr style=\"text-align: right;\">\n",
              "      <th></th>\n",
              "      <th>image</th>\n",
              "      <th>category</th>\n",
              "    </tr>\n",
              "  </thead>\n",
              "  <tbody>\n",
              "    <tr>\n",
              "      <th>0</th>\n",
              "      <td>1007700.jpg</td>\n",
              "      <td>0</td>\n",
              "    </tr>\n",
              "    <tr>\n",
              "      <th>1</th>\n",
              "      <td>1011369.jpg</td>\n",
              "      <td>3</td>\n",
              "    </tr>\n",
              "    <tr>\n",
              "      <th>2</th>\n",
              "      <td>1051155.jpg</td>\n",
              "      <td>0</td>\n",
              "    </tr>\n",
              "    <tr>\n",
              "      <th>3</th>\n",
              "      <td>1062001.jpg</td>\n",
              "      <td>2</td>\n",
              "    </tr>\n",
              "    <tr>\n",
              "      <th>4</th>\n",
              "      <td>1069397.jpg</td>\n",
              "      <td>1</td>\n",
              "    </tr>\n",
              "  </tbody>\n",
              "</table>\n",
              "</div>"
            ],
            "text/plain": [
              "         image  category\n",
              "0  1007700.jpg         0\n",
              "1  1011369.jpg         3\n",
              "2  1051155.jpg         0\n",
              "3  1062001.jpg         2\n",
              "4  1069397.jpg         1"
            ]
          },
          "metadata": {
            "tags": []
          },
          "execution_count": 40
        }
      ]
    },
    {
      "cell_type": "code",
      "metadata": {
        "id": "FffvDT2Q2do-",
        "colab_type": "code",
        "colab": {}
      },
      "source": [
        ""
      ],
      "execution_count": 0,
      "outputs": []
    }
  ]
}