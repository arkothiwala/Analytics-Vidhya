{
  "nbformat": 4,
  "nbformat_minor": 0,
  "metadata": {
    "colab": {
      "name": "AV-GoD Transfer learning",
      "version": "0.3.2",
      "provenance": [],
      "include_colab_link": true
    },
    "kernelspec": {
      "name": "python3",
      "display_name": "Python 3"
    },
    "accelerator": "GPU"
  },
  "cells": [
    {
      "cell_type": "markdown",
      "metadata": {
        "id": "view-in-github",
        "colab_type": "text"
      },
      "source": [
        "<a href=\"https://colab.research.google.com/github/arkothiwala/Analytics-Vidhya/blob/master/AV_GoD_Transfer_learning.ipynb\" target=\"_parent\"><img src=\"https://colab.research.google.com/assets/colab-badge.svg\" alt=\"Open In Colab\"/></a>"
      ]
    },
    {
      "cell_type": "code",
      "metadata": {
        "id": "1so2pXN32dyR",
        "colab_type": "code",
        "colab": {
          "base_uri": "https://localhost:8080/",
          "height": 50
        },
        "outputId": "2f7183bc-1599-4f4c-b730-f04ec7e9f144"
      },
      "source": [
        "!pip install -U -q PyDrive\n",
        "from pydrive.auth import GoogleAuth\n",
        "from pydrive.drive import GoogleDrive\n",
        "from google.colab import auth\n",
        "from oauth2client.client import GoogleCredentials\n",
        "import torch\n",
        "# Authenticate and create the PyDrive client.\n",
        "# This only needs to be done once per notebook.\n",
        "auth.authenticate_user()\n",
        "gauth = GoogleAuth()\n",
        "gauth.credentials = GoogleCredentials.get_application_default()\n",
        "drive = GoogleDrive(gauth)"
      ],
      "execution_count": 1,
      "outputs": [
        {
          "output_type": "stream",
          "text": [
            "\u001b[?25l\r\u001b[K     |▎                               | 10kB 21.7MB/s eta 0:00:01\r\u001b[K     |▋                               | 20kB 7.0MB/s eta 0:00:01\r\u001b[K     |█                               | 30kB 9.8MB/s eta 0:00:01\r\u001b[K     |█▎                              | 40kB 6.3MB/s eta 0:00:01\r\u001b[K     |█▋                              | 51kB 7.6MB/s eta 0:00:01\r\u001b[K     |██                              | 61kB 9.0MB/s eta 0:00:01\r\u001b[K     |██▎                             | 71kB 10.1MB/s eta 0:00:01\r\u001b[K     |██▋                             | 81kB 11.3MB/s eta 0:00:01\r\u001b[K     |███                             | 92kB 12.4MB/s eta 0:00:01\r\u001b[K     |███▎                            | 102kB 10.1MB/s eta 0:00:01\r\u001b[K     |███▋                            | 112kB 10.1MB/s eta 0:00:01\r\u001b[K     |████                            | 122kB 10.1MB/s eta 0:00:01\r\u001b[K     |████▎                           | 133kB 10.1MB/s eta 0:00:01\r\u001b[K     |████▋                           | 143kB 10.1MB/s eta 0:00:01\r\u001b[K     |█████                           | 153kB 10.1MB/s eta 0:00:01\r\u001b[K     |█████▎                          | 163kB 10.1MB/s eta 0:00:01\r\u001b[K     |█████▋                          | 174kB 10.1MB/s eta 0:00:01\r\u001b[K     |██████                          | 184kB 10.1MB/s eta 0:00:01\r\u001b[K     |██████▎                         | 194kB 10.1MB/s eta 0:00:01\r\u001b[K     |██████▋                         | 204kB 10.1MB/s eta 0:00:01\r\u001b[K     |███████                         | 215kB 10.1MB/s eta 0:00:01\r\u001b[K     |███████▎                        | 225kB 10.1MB/s eta 0:00:01\r\u001b[K     |███████▋                        | 235kB 10.1MB/s eta 0:00:01\r\u001b[K     |████████                        | 245kB 10.1MB/s eta 0:00:01\r\u001b[K     |████████▎                       | 256kB 10.1MB/s eta 0:00:01\r\u001b[K     |████████▋                       | 266kB 10.1MB/s eta 0:00:01\r\u001b[K     |█████████                       | 276kB 10.1MB/s eta 0:00:01\r\u001b[K     |█████████▎                      | 286kB 10.1MB/s eta 0:00:01\r\u001b[K     |█████████▋                      | 296kB 10.1MB/s eta 0:00:01\r\u001b[K     |██████████                      | 307kB 10.1MB/s eta 0:00:01\r\u001b[K     |██████████▎                     | 317kB 10.1MB/s eta 0:00:01\r\u001b[K     |██████████▋                     | 327kB 10.1MB/s eta 0:00:01\r\u001b[K     |███████████                     | 337kB 10.1MB/s eta 0:00:01\r\u001b[K     |███████████▎                    | 348kB 10.1MB/s eta 0:00:01\r\u001b[K     |███████████▋                    | 358kB 10.1MB/s eta 0:00:01\r\u001b[K     |████████████                    | 368kB 10.1MB/s eta 0:00:01\r\u001b[K     |████████████▎                   | 378kB 10.1MB/s eta 0:00:01\r\u001b[K     |████████████▋                   | 389kB 10.1MB/s eta 0:00:01\r\u001b[K     |█████████████                   | 399kB 10.1MB/s eta 0:00:01\r\u001b[K     |█████████████▎                  | 409kB 10.1MB/s eta 0:00:01\r\u001b[K     |█████████████▋                  | 419kB 10.1MB/s eta 0:00:01\r\u001b[K     |██████████████                  | 430kB 10.1MB/s eta 0:00:01\r\u001b[K     |██████████████▎                 | 440kB 10.1MB/s eta 0:00:01\r\u001b[K     |██████████████▋                 | 450kB 10.1MB/s eta 0:00:01\r\u001b[K     |███████████████                 | 460kB 10.1MB/s eta 0:00:01\r\u001b[K     |███████████████▎                | 471kB 10.1MB/s eta 0:00:01\r\u001b[K     |███████████████▋                | 481kB 10.1MB/s eta 0:00:01\r\u001b[K     |████████████████                | 491kB 10.1MB/s eta 0:00:01\r\u001b[K     |████████████████▎               | 501kB 10.1MB/s eta 0:00:01\r\u001b[K     |████████████████▋               | 512kB 10.1MB/s eta 0:00:01\r\u001b[K     |█████████████████               | 522kB 10.1MB/s eta 0:00:01\r\u001b[K     |█████████████████▎              | 532kB 10.1MB/s eta 0:00:01\r\u001b[K     |█████████████████▋              | 542kB 10.1MB/s eta 0:00:01\r\u001b[K     |██████████████████              | 552kB 10.1MB/s eta 0:00:01\r\u001b[K     |██████████████████▎             | 563kB 10.1MB/s eta 0:00:01\r\u001b[K     |██████████████████▋             | 573kB 10.1MB/s eta 0:00:01\r\u001b[K     |███████████████████             | 583kB 10.1MB/s eta 0:00:01\r\u001b[K     |███████████████████▎            | 593kB 10.1MB/s eta 0:00:01\r\u001b[K     |███████████████████▋            | 604kB 10.1MB/s eta 0:00:01\r\u001b[K     |████████████████████            | 614kB 10.1MB/s eta 0:00:01\r\u001b[K     |████████████████████▎           | 624kB 10.1MB/s eta 0:00:01\r\u001b[K     |████████████████████▋           | 634kB 10.1MB/s eta 0:00:01\r\u001b[K     |█████████████████████           | 645kB 10.1MB/s eta 0:00:01\r\u001b[K     |█████████████████████▎          | 655kB 10.1MB/s eta 0:00:01\r\u001b[K     |█████████████████████▋          | 665kB 10.1MB/s eta 0:00:01\r\u001b[K     |██████████████████████          | 675kB 10.1MB/s eta 0:00:01\r\u001b[K     |██████████████████████▎         | 686kB 10.1MB/s eta 0:00:01\r\u001b[K     |██████████████████████▋         | 696kB 10.1MB/s eta 0:00:01\r\u001b[K     |███████████████████████         | 706kB 10.1MB/s eta 0:00:01\r\u001b[K     |███████████████████████▎        | 716kB 10.1MB/s eta 0:00:01\r\u001b[K     |███████████████████████▋        | 727kB 10.1MB/s eta 0:00:01\r\u001b[K     |████████████████████████        | 737kB 10.1MB/s eta 0:00:01\r\u001b[K     |████████████████████████▎       | 747kB 10.1MB/s eta 0:00:01\r\u001b[K     |████████████████████████▋       | 757kB 10.1MB/s eta 0:00:01\r\u001b[K     |████████████████████████▉       | 768kB 10.1MB/s eta 0:00:01\r\u001b[K     |█████████████████████████▏      | 778kB 10.1MB/s eta 0:00:01\r\u001b[K     |█████████████████████████▌      | 788kB 10.1MB/s eta 0:00:01\r\u001b[K     |█████████████████████████▉      | 798kB 10.1MB/s eta 0:00:01\r\u001b[K     |██████████████████████████▏     | 808kB 10.1MB/s eta 0:00:01\r\u001b[K     |██████████████████████████▌     | 819kB 10.1MB/s eta 0:00:01\r\u001b[K     |██████████████████████████▉     | 829kB 10.1MB/s eta 0:00:01\r\u001b[K     |███████████████████████████▏    | 839kB 10.1MB/s eta 0:00:01\r\u001b[K     |███████████████████████████▌    | 849kB 10.1MB/s eta 0:00:01\r\u001b[K     |███████████████████████████▉    | 860kB 10.1MB/s eta 0:00:01\r\u001b[K     |████████████████████████████▏   | 870kB 10.1MB/s eta 0:00:01\r\u001b[K     |████████████████████████████▌   | 880kB 10.1MB/s eta 0:00:01\r\u001b[K     |████████████████████████████▉   | 890kB 10.1MB/s eta 0:00:01\r\u001b[K     |█████████████████████████████▏  | 901kB 10.1MB/s eta 0:00:01\r\u001b[K     |█████████████████████████████▌  | 911kB 10.1MB/s eta 0:00:01\r\u001b[K     |█████████████████████████████▉  | 921kB 10.1MB/s eta 0:00:01\r\u001b[K     |██████████████████████████████▏ | 931kB 10.1MB/s eta 0:00:01\r\u001b[K     |██████████████████████████████▌ | 942kB 10.1MB/s eta 0:00:01\r\u001b[K     |██████████████████████████████▉ | 952kB 10.1MB/s eta 0:00:01\r\u001b[K     |███████████████████████████████▏| 962kB 10.1MB/s eta 0:00:01\r\u001b[K     |███████████████████████████████▌| 972kB 10.1MB/s eta 0:00:01\r\u001b[K     |███████████████████████████████▉| 983kB 10.1MB/s eta 0:00:01\r\u001b[K     |████████████████████████████████| 993kB 10.1MB/s \n",
            "\u001b[?25h  Building wheel for PyDrive (setup.py) ... \u001b[?25l\u001b[?25hdone\n"
          ],
          "name": "stdout"
        }
      ]
    },
    {
      "cell_type": "code",
      "metadata": {
        "id": "gjfVtpo93YL9",
        "colab_type": "code",
        "colab": {}
      },
      "source": [
        "# Download a file based on its file ID.\n",
        "#\n",
        "# A file ID looks like: laggVyWshwcyP6kEI-y_W3P8D26sz\n",
        "file_id = '1zRzgwnzMs52MN674v6TFDOMrKi1jg6dN' #File ID for the required Trainingdata\n",
        "downloaded = drive.CreateFile({'id': file_id})\n",
        "downloaded.GetContentFile('train-ship classification.zip')"
      ],
      "execution_count": 0,
      "outputs": []
    },
    {
      "cell_type": "code",
      "metadata": {
        "id": "EOFPNtei3xUZ",
        "colab_type": "code",
        "colab": {}
      },
      "source": [
        "import zipfile\n",
        "zip_ref = zipfile.ZipFile('train-ship classification.zip', 'r')\n",
        "zip_ref.extractall('data')\n",
        "zip_ref.close()"
      ],
      "execution_count": 0,
      "outputs": []
    },
    {
      "cell_type": "code",
      "metadata": {
        "id": "-82VluQn3zw0",
        "colab_type": "code",
        "colab": {
          "base_uri": "https://localhost:8080/",
          "height": 34
        },
        "outputId": "4f253538-ed25-478e-bd8c-1100f59d26d0"
      },
      "source": [
        "import pandas as pd\n",
        "import numpy as np\n",
        "import os\n",
        "import keras\n",
        "import matplotlib.pyplot as plt\n",
        "from keras.layers import Dense,GlobalAveragePooling2D\n",
        "from keras.applications import MobileNet\n",
        "from keras.preprocessing import image\n",
        "from keras.applications.mobilenet import preprocess_input\n",
        "from keras.preprocessing.image import ImageDataGenerator\n",
        "from keras.models import Model\n",
        "from keras.optimizers import Adam"
      ],
      "execution_count": 4,
      "outputs": [
        {
          "output_type": "stream",
          "text": [
            "Using TensorFlow backend.\n"
          ],
          "name": "stderr"
        }
      ]
    },
    {
      "cell_type": "code",
      "metadata": {
        "id": "WlkYsGXCFrpo",
        "colab_type": "code",
        "colab": {
          "base_uri": "https://localhost:8080/",
          "height": 154
        },
        "outputId": "a6eb71fa-2cfe-451e-de81-92e46e4be761"
      },
      "source": [
        "\n",
        "base_model=MobileNet(weights='imagenet',include_top=False) #imports the mobilenet model and discards the last 1000 neuron layer.\n",
        "\n",
        "x=base_model.output\n",
        "x=GlobalAveragePooling2D()(x)\n",
        "x=Dense(1024,activation='relu')(x) #we add dense layers so that the model can learn more complex functions and classify for better results.\n",
        "#x=Dense(1024,activation='relu')(x) #dense layer 2\n",
        "x=Dense(512,activation='relu')(x) #dense layer 3\n",
        "preds=Dense(5,activation='softmax')(x) #final layer with softmax activation"
      ],
      "execution_count": 5,
      "outputs": [
        {
          "output_type": "stream",
          "text": [
            "WARNING:tensorflow:From /usr/local/lib/python3.6/dist-packages/tensorflow/python/framework/op_def_library.py:263: colocate_with (from tensorflow.python.framework.ops) is deprecated and will be removed in a future version.\n",
            "Instructions for updating:\n",
            "Colocations handled automatically by placer.\n"
          ],
          "name": "stdout"
        },
        {
          "output_type": "stream",
          "text": [
            "/usr/local/lib/python3.6/dist-packages/keras_applications/mobilenet.py:207: UserWarning: `input_shape` is undefined or non-square, or `rows` is not in [128, 160, 192, 224]. Weights for input shape (224, 224) will be loaded as the default.\n",
            "  warnings.warn('`input_shape` is undefined or non-square, '\n"
          ],
          "name": "stderr"
        },
        {
          "output_type": "stream",
          "text": [
            "Downloading data from https://github.com/fchollet/deep-learning-models/releases/download/v0.6/mobilenet_1_0_224_tf_no_top.h5\n",
            "17227776/17225924 [==============================] - 1s 0us/step\n"
          ],
          "name": "stdout"
        }
      ]
    },
    {
      "cell_type": "code",
      "metadata": {
        "id": "fX8NK56HGb14",
        "colab_type": "code",
        "colab": {}
      },
      "source": [
        "model=Model(inputs=base_model.input,outputs=preds)"
      ],
      "execution_count": 0,
      "outputs": []
    },
    {
      "cell_type": "code",
      "metadata": {
        "id": "10QqcE91GpKY",
        "colab_type": "code",
        "colab": {}
      },
      "source": [
        "for layer in model.layers:\n",
        "    layer.trainable=False\n",
        "for layer in model.layers[-4:]:\n",
        "    layer.trainable=True"
      ],
      "execution_count": 0,
      "outputs": []
    },
    {
      "cell_type": "code",
      "metadata": {
        "id": "fOlsvkM3HeIU",
        "colab_type": "code",
        "colab": {
          "base_uri": "https://localhost:8080/",
          "height": 3192
        },
        "outputId": "7c91b4a3-e8ba-4598-e674-029ccaed2708"
      },
      "source": [
        "model.summary()"
      ],
      "execution_count": 17,
      "outputs": [
        {
          "output_type": "stream",
          "text": [
            "_________________________________________________________________\n",
            "Layer (type)                 Output Shape              Param #   \n",
            "=================================================================\n",
            "input_1 (InputLayer)         (None, None, None, 3)     0         \n",
            "_________________________________________________________________\n",
            "conv1_pad (ZeroPadding2D)    (None, None, None, 3)     0         \n",
            "_________________________________________________________________\n",
            "conv1 (Conv2D)               (None, None, None, 32)    864       \n",
            "_________________________________________________________________\n",
            "conv1_bn (BatchNormalization (None, None, None, 32)    128       \n",
            "_________________________________________________________________\n",
            "conv1_relu (ReLU)            (None, None, None, 32)    0         \n",
            "_________________________________________________________________\n",
            "conv_dw_1 (DepthwiseConv2D)  (None, None, None, 32)    288       \n",
            "_________________________________________________________________\n",
            "conv_dw_1_bn (BatchNormaliza (None, None, None, 32)    128       \n",
            "_________________________________________________________________\n",
            "conv_dw_1_relu (ReLU)        (None, None, None, 32)    0         \n",
            "_________________________________________________________________\n",
            "conv_pw_1 (Conv2D)           (None, None, None, 64)    2048      \n",
            "_________________________________________________________________\n",
            "conv_pw_1_bn (BatchNormaliza (None, None, None, 64)    256       \n",
            "_________________________________________________________________\n",
            "conv_pw_1_relu (ReLU)        (None, None, None, 64)    0         \n",
            "_________________________________________________________________\n",
            "conv_pad_2 (ZeroPadding2D)   (None, None, None, 64)    0         \n",
            "_________________________________________________________________\n",
            "conv_dw_2 (DepthwiseConv2D)  (None, None, None, 64)    576       \n",
            "_________________________________________________________________\n",
            "conv_dw_2_bn (BatchNormaliza (None, None, None, 64)    256       \n",
            "_________________________________________________________________\n",
            "conv_dw_2_relu (ReLU)        (None, None, None, 64)    0         \n",
            "_________________________________________________________________\n",
            "conv_pw_2 (Conv2D)           (None, None, None, 128)   8192      \n",
            "_________________________________________________________________\n",
            "conv_pw_2_bn (BatchNormaliza (None, None, None, 128)   512       \n",
            "_________________________________________________________________\n",
            "conv_pw_2_relu (ReLU)        (None, None, None, 128)   0         \n",
            "_________________________________________________________________\n",
            "conv_dw_3 (DepthwiseConv2D)  (None, None, None, 128)   1152      \n",
            "_________________________________________________________________\n",
            "conv_dw_3_bn (BatchNormaliza (None, None, None, 128)   512       \n",
            "_________________________________________________________________\n",
            "conv_dw_3_relu (ReLU)        (None, None, None, 128)   0         \n",
            "_________________________________________________________________\n",
            "conv_pw_3 (Conv2D)           (None, None, None, 128)   16384     \n",
            "_________________________________________________________________\n",
            "conv_pw_3_bn (BatchNormaliza (None, None, None, 128)   512       \n",
            "_________________________________________________________________\n",
            "conv_pw_3_relu (ReLU)        (None, None, None, 128)   0         \n",
            "_________________________________________________________________\n",
            "conv_pad_4 (ZeroPadding2D)   (None, None, None, 128)   0         \n",
            "_________________________________________________________________\n",
            "conv_dw_4 (DepthwiseConv2D)  (None, None, None, 128)   1152      \n",
            "_________________________________________________________________\n",
            "conv_dw_4_bn (BatchNormaliza (None, None, None, 128)   512       \n",
            "_________________________________________________________________\n",
            "conv_dw_4_relu (ReLU)        (None, None, None, 128)   0         \n",
            "_________________________________________________________________\n",
            "conv_pw_4 (Conv2D)           (None, None, None, 256)   32768     \n",
            "_________________________________________________________________\n",
            "conv_pw_4_bn (BatchNormaliza (None, None, None, 256)   1024      \n",
            "_________________________________________________________________\n",
            "conv_pw_4_relu (ReLU)        (None, None, None, 256)   0         \n",
            "_________________________________________________________________\n",
            "conv_dw_5 (DepthwiseConv2D)  (None, None, None, 256)   2304      \n",
            "_________________________________________________________________\n",
            "conv_dw_5_bn (BatchNormaliza (None, None, None, 256)   1024      \n",
            "_________________________________________________________________\n",
            "conv_dw_5_relu (ReLU)        (None, None, None, 256)   0         \n",
            "_________________________________________________________________\n",
            "conv_pw_5 (Conv2D)           (None, None, None, 256)   65536     \n",
            "_________________________________________________________________\n",
            "conv_pw_5_bn (BatchNormaliza (None, None, None, 256)   1024      \n",
            "_________________________________________________________________\n",
            "conv_pw_5_relu (ReLU)        (None, None, None, 256)   0         \n",
            "_________________________________________________________________\n",
            "conv_pad_6 (ZeroPadding2D)   (None, None, None, 256)   0         \n",
            "_________________________________________________________________\n",
            "conv_dw_6 (DepthwiseConv2D)  (None, None, None, 256)   2304      \n",
            "_________________________________________________________________\n",
            "conv_dw_6_bn (BatchNormaliza (None, None, None, 256)   1024      \n",
            "_________________________________________________________________\n",
            "conv_dw_6_relu (ReLU)        (None, None, None, 256)   0         \n",
            "_________________________________________________________________\n",
            "conv_pw_6 (Conv2D)           (None, None, None, 512)   131072    \n",
            "_________________________________________________________________\n",
            "conv_pw_6_bn (BatchNormaliza (None, None, None, 512)   2048      \n",
            "_________________________________________________________________\n",
            "conv_pw_6_relu (ReLU)        (None, None, None, 512)   0         \n",
            "_________________________________________________________________\n",
            "conv_dw_7 (DepthwiseConv2D)  (None, None, None, 512)   4608      \n",
            "_________________________________________________________________\n",
            "conv_dw_7_bn (BatchNormaliza (None, None, None, 512)   2048      \n",
            "_________________________________________________________________\n",
            "conv_dw_7_relu (ReLU)        (None, None, None, 512)   0         \n",
            "_________________________________________________________________\n",
            "conv_pw_7 (Conv2D)           (None, None, None, 512)   262144    \n",
            "_________________________________________________________________\n",
            "conv_pw_7_bn (BatchNormaliza (None, None, None, 512)   2048      \n",
            "_________________________________________________________________\n",
            "conv_pw_7_relu (ReLU)        (None, None, None, 512)   0         \n",
            "_________________________________________________________________\n",
            "conv_dw_8 (DepthwiseConv2D)  (None, None, None, 512)   4608      \n",
            "_________________________________________________________________\n",
            "conv_dw_8_bn (BatchNormaliza (None, None, None, 512)   2048      \n",
            "_________________________________________________________________\n",
            "conv_dw_8_relu (ReLU)        (None, None, None, 512)   0         \n",
            "_________________________________________________________________\n",
            "conv_pw_8 (Conv2D)           (None, None, None, 512)   262144    \n",
            "_________________________________________________________________\n",
            "conv_pw_8_bn (BatchNormaliza (None, None, None, 512)   2048      \n",
            "_________________________________________________________________\n",
            "conv_pw_8_relu (ReLU)        (None, None, None, 512)   0         \n",
            "_________________________________________________________________\n",
            "conv_dw_9 (DepthwiseConv2D)  (None, None, None, 512)   4608      \n",
            "_________________________________________________________________\n",
            "conv_dw_9_bn (BatchNormaliza (None, None, None, 512)   2048      \n",
            "_________________________________________________________________\n",
            "conv_dw_9_relu (ReLU)        (None, None, None, 512)   0         \n",
            "_________________________________________________________________\n",
            "conv_pw_9 (Conv2D)           (None, None, None, 512)   262144    \n",
            "_________________________________________________________________\n",
            "conv_pw_9_bn (BatchNormaliza (None, None, None, 512)   2048      \n",
            "_________________________________________________________________\n",
            "conv_pw_9_relu (ReLU)        (None, None, None, 512)   0         \n",
            "_________________________________________________________________\n",
            "conv_dw_10 (DepthwiseConv2D) (None, None, None, 512)   4608      \n",
            "_________________________________________________________________\n",
            "conv_dw_10_bn (BatchNormaliz (None, None, None, 512)   2048      \n",
            "_________________________________________________________________\n",
            "conv_dw_10_relu (ReLU)       (None, None, None, 512)   0         \n",
            "_________________________________________________________________\n",
            "conv_pw_10 (Conv2D)          (None, None, None, 512)   262144    \n",
            "_________________________________________________________________\n",
            "conv_pw_10_bn (BatchNormaliz (None, None, None, 512)   2048      \n",
            "_________________________________________________________________\n",
            "conv_pw_10_relu (ReLU)       (None, None, None, 512)   0         \n",
            "_________________________________________________________________\n",
            "conv_dw_11 (DepthwiseConv2D) (None, None, None, 512)   4608      \n",
            "_________________________________________________________________\n",
            "conv_dw_11_bn (BatchNormaliz (None, None, None, 512)   2048      \n",
            "_________________________________________________________________\n",
            "conv_dw_11_relu (ReLU)       (None, None, None, 512)   0         \n",
            "_________________________________________________________________\n",
            "conv_pw_11 (Conv2D)          (None, None, None, 512)   262144    \n",
            "_________________________________________________________________\n",
            "conv_pw_11_bn (BatchNormaliz (None, None, None, 512)   2048      \n",
            "_________________________________________________________________\n",
            "conv_pw_11_relu (ReLU)       (None, None, None, 512)   0         \n",
            "_________________________________________________________________\n",
            "conv_pad_12 (ZeroPadding2D)  (None, None, None, 512)   0         \n",
            "_________________________________________________________________\n",
            "conv_dw_12 (DepthwiseConv2D) (None, None, None, 512)   4608      \n",
            "_________________________________________________________________\n",
            "conv_dw_12_bn (BatchNormaliz (None, None, None, 512)   2048      \n",
            "_________________________________________________________________\n",
            "conv_dw_12_relu (ReLU)       (None, None, None, 512)   0         \n",
            "_________________________________________________________________\n",
            "conv_pw_12 (Conv2D)          (None, None, None, 1024)  524288    \n",
            "_________________________________________________________________\n",
            "conv_pw_12_bn (BatchNormaliz (None, None, None, 1024)  4096      \n",
            "_________________________________________________________________\n",
            "conv_pw_12_relu (ReLU)       (None, None, None, 1024)  0         \n",
            "_________________________________________________________________\n",
            "conv_dw_13 (DepthwiseConv2D) (None, None, None, 1024)  9216      \n",
            "_________________________________________________________________\n",
            "conv_dw_13_bn (BatchNormaliz (None, None, None, 1024)  4096      \n",
            "_________________________________________________________________\n",
            "conv_dw_13_relu (ReLU)       (None, None, None, 1024)  0         \n",
            "_________________________________________________________________\n",
            "conv_pw_13 (Conv2D)          (None, None, None, 1024)  1048576   \n",
            "_________________________________________________________________\n",
            "conv_pw_13_bn (BatchNormaliz (None, None, None, 1024)  4096      \n",
            "_________________________________________________________________\n",
            "conv_pw_13_relu (ReLU)       (None, None, None, 1024)  0         \n",
            "_________________________________________________________________\n",
            "global_average_pooling2d_1 ( (None, 1024)              0         \n",
            "_________________________________________________________________\n",
            "dense_1 (Dense)              (None, 1024)              1049600   \n",
            "_________________________________________________________________\n",
            "dense_2 (Dense)              (None, 512)               524800    \n",
            "_________________________________________________________________\n",
            "dense_3 (Dense)              (None, 5)                 2565      \n",
            "=================================================================\n",
            "Total params: 4,805,829\n",
            "Trainable params: 1,576,965\n",
            "Non-trainable params: 3,228,864\n",
            "_________________________________________________________________\n"
          ],
          "name": "stdout"
        }
      ]
    },
    {
      "cell_type": "code",
      "metadata": {
        "id": "xz-BYvUdHhWi",
        "colab_type": "code",
        "colab": {
          "base_uri": "https://localhost:8080/",
          "height": 34
        },
        "outputId": "8598984a-e80d-4120-e8ff-00719d0b0675"
      },
      "source": [
        "len(model.layers)"
      ],
      "execution_count": 13,
      "outputs": [
        {
          "output_type": "execute_result",
          "data": {
            "text/plain": [
              "91"
            ]
          },
          "metadata": {
            "tags": []
          },
          "execution_count": 13
        }
      ]
    },
    {
      "cell_type": "code",
      "metadata": {
        "id": "ZbAvou9jHnj1",
        "colab_type": "code",
        "colab": {
          "base_uri": "https://localhost:8080/",
          "height": 34
        },
        "outputId": "dce060ca-f0c4-4917-eacb-800b916422df"
      },
      "source": [
        "train_datagen=ImageDataGenerator(preprocessing_function=preprocess_input) #included in our dependencies\n",
        "\n",
        "train_generator=train_datagen.flow_from_directory('./data/', # this is where you specify the path to the main data folder\n",
        "                                                 target_size=(224,224),\n",
        "                                                 color_mode='rgb',\n",
        "                                                 batch_size=64,\n",
        "                                                 class_mode='categorical',\n",
        "                                                 shuffle=True)"
      ],
      "execution_count": 19,
      "outputs": [
        {
          "output_type": "stream",
          "text": [
            "Found 17864 images belonging to 2 classes.\n"
          ],
          "name": "stdout"
        }
      ]
    },
    {
      "cell_type": "code",
      "metadata": {
        "id": "wYBn3LsxH3l_",
        "colab_type": "code",
        "colab": {}
      },
      "source": [
        ""
      ],
      "execution_count": 0,
      "outputs": []
    }
  ]
}